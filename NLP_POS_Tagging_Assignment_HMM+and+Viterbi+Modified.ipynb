{
 "cells": [
  {
   "cell_type": "markdown",
   "metadata": {},
   "source": [
    "### Problem Statement : Viterbi algorithm to solve the problem of unknown words using at least two techniques. \n",
    "\n",
    "1. Write the vanilla Viterbi algorithm for assigning POS tags (i.e. without dealing with unknown words) \n",
    "2. Solve the problem of unknown words using at least two techniques. These techniques can use any of the approaches discussed in the class - lexicon, rule-based, probabilistic etc. Note that to implement these techniques, you can either write separate functions and call them from the main Viterbi algorithm, or modify the Viterbi algorithm, or both.\n",
    "3. Compare the tagging accuracy after making these modifications with the vanilla Viterbi algorithm.\n",
    "4. List down at least three cases from the sample test file (i.e. unknown word-tag pairs) which were incorrectly tagged by the original Viterbi POS tagger and got corrected after your modifications.\n",
    " "
   ]
  },
  {
   "cell_type": "markdown",
   "metadata": {},
   "source": [
    "### Solution Approach: \n",
    "This exercise is divided into the following sections:\n",
    "1. Reading and understanding the tagged dataset\n",
    "2. Exploratory analysis\n",
    "3. Vanilla viterbi hueristic Algorithm implementation\n",
    "3. Vanilla viterbi Modification using following techniques\n",
    "    - rule-based models and Lexicon Model:\n",
    "    - Creating and evaluating a rule-based POS tagger\n",
    "    - Creating and evaluating a lexicon POS tagger\n",
    "    - Combined tagger, lexicon fallback on default tagger(rule based tagger)"
   ]
  },
  {
   "cell_type": "code",
   "execution_count": 565,
   "metadata": {},
   "outputs": [
    {
     "name": "stderr",
     "output_type": "stream",
     "text": [
      "[nltk_data] Downloading package universal_tagset to\n",
      "[nltk_data]     /Users/mamta/nltk_data...\n",
      "[nltk_data]   Package universal_tagset is already up-to-date!\n"
     ]
    },
    {
     "data": {
      "text/plain": [
       "True"
      ]
     },
     "execution_count": 565,
     "metadata": {},
     "output_type": "execute_result"
    }
   ],
   "source": [
    "#Importing libraries\n",
    "import nltk, re, pprint\n",
    "import numpy as np\n",
    "import pandas as pd\n",
    "import requests\n",
    "import matplotlib.pyplot as plt\n",
    "import seaborn as sns\n",
    "import pprint, time\n",
    "import random\n",
    "from sklearn.model_selection import train_test_split\n",
    "from nltk.tokenize import word_tokenize\n",
    "from nltk import DefaultTagger\n",
    "from nltk import UnigramTagger\n",
    "from nltk import BigramTagger\n",
    "import math\n",
    "nltk.download('universal_tagset')\n"
   ]
  },
  {
   "cell_type": "markdown",
   "metadata": {},
   "source": [
    "## 1. Data Preparation"
   ]
  },
  {
   "cell_type": "code",
   "execution_count": 566,
   "metadata": {},
   "outputs": [],
   "source": [
    "# reading the Treebank tagged sentences\n",
    "nltk_default_dataset = list(nltk.corpus.treebank.tagged_sents(tagset='universal'))"
   ]
  },
  {
   "cell_type": "code",
   "execution_count": 567,
   "metadata": {},
   "outputs": [
    {
     "name": "stdout",
     "output_type": "stream",
     "text": [
      "[[('Pierre', 'NOUN'), ('Vinken', 'NOUN'), (',', '.'), ('61', 'NUM'), ('years', 'NOUN'), ('old', 'ADJ'), (',', '.'), ('will', 'VERB'), ('join', 'VERB'), ('the', 'DET'), ('board', 'NOUN'), ('as', 'ADP'), ('a', 'DET'), ('nonexecutive', 'ADJ'), ('director', 'NOUN'), ('Nov.', 'NOUN'), ('29', 'NUM'), ('.', '.')], [('Mr.', 'NOUN'), ('Vinken', 'NOUN'), ('is', 'VERB'), ('chairman', 'NOUN'), ('of', 'ADP'), ('Elsevier', 'NOUN'), ('N.V.', 'NOUN'), (',', '.'), ('the', 'DET'), ('Dutch', 'NOUN'), ('publishing', 'VERB'), ('group', 'NOUN'), ('.', '.')], [('Rudolph', 'NOUN'), ('Agnew', 'NOUN'), (',', '.'), ('55', 'NUM'), ('years', 'NOUN'), ('old', 'ADJ'), ('and', 'CONJ'), ('former', 'ADJ'), ('chairman', 'NOUN'), ('of', 'ADP'), ('Consolidated', 'NOUN'), ('Gold', 'NOUN'), ('Fields', 'NOUN'), ('PLC', 'NOUN'), (',', '.'), ('was', 'VERB'), ('named', 'VERB'), ('*-1', 'X'), ('a', 'DET'), ('nonexecutive', 'ADJ'), ('director', 'NOUN'), ('of', 'ADP'), ('this', 'DET'), ('British', 'ADJ'), ('industrial', 'ADJ'), ('conglomerate', 'NOUN'), ('.', '.')], [('A', 'DET'), ('form', 'NOUN'), ('of', 'ADP'), ('asbestos', 'NOUN'), ('once', 'ADV'), ('used', 'VERB'), ('*', 'X'), ('*', 'X'), ('to', 'PRT'), ('make', 'VERB'), ('Kent', 'NOUN'), ('cigarette', 'NOUN'), ('filters', 'NOUN'), ('has', 'VERB'), ('caused', 'VERB'), ('a', 'DET'), ('high', 'ADJ'), ('percentage', 'NOUN'), ('of', 'ADP'), ('cancer', 'NOUN'), ('deaths', 'NOUN'), ('among', 'ADP'), ('a', 'DET'), ('group', 'NOUN'), ('of', 'ADP'), ('workers', 'NOUN'), ('exposed', 'VERB'), ('*', 'X'), ('to', 'PRT'), ('it', 'PRON'), ('more', 'ADV'), ('than', 'ADP'), ('30', 'NUM'), ('years', 'NOUN'), ('ago', 'ADP'), (',', '.'), ('researchers', 'NOUN'), ('reported', 'VERB'), ('0', 'X'), ('*T*-1', 'X'), ('.', '.')], [('The', 'DET'), ('asbestos', 'NOUN'), ('fiber', 'NOUN'), (',', '.'), ('crocidolite', 'NOUN'), (',', '.'), ('is', 'VERB'), ('unusually', 'ADV'), ('resilient', 'ADJ'), ('once', 'ADP'), ('it', 'PRON'), ('enters', 'VERB'), ('the', 'DET'), ('lungs', 'NOUN'), (',', '.'), ('with', 'ADP'), ('even', 'ADV'), ('brief', 'ADJ'), ('exposures', 'NOUN'), ('to', 'PRT'), ('it', 'PRON'), ('causing', 'VERB'), ('symptoms', 'NOUN'), ('that', 'DET'), ('*T*-1', 'X'), ('show', 'VERB'), ('up', 'PRT'), ('decades', 'NOUN'), ('later', 'ADJ'), (',', '.'), ('researchers', 'NOUN'), ('said', 'VERB'), ('0', 'X'), ('*T*-2', 'X'), ('.', '.')], [('Lorillard', 'NOUN'), ('Inc.', 'NOUN'), (',', '.'), ('the', 'DET'), ('unit', 'NOUN'), ('of', 'ADP'), ('New', 'ADJ'), ('York-based', 'ADJ'), ('Loews', 'NOUN'), ('Corp.', 'NOUN'), ('that', 'DET'), ('*T*-2', 'X'), ('makes', 'VERB'), ('Kent', 'NOUN'), ('cigarettes', 'NOUN'), (',', '.'), ('stopped', 'VERB'), ('using', 'VERB'), ('crocidolite', 'NOUN'), ('in', 'ADP'), ('its', 'PRON'), ('Micronite', 'NOUN'), ('cigarette', 'NOUN'), ('filters', 'NOUN'), ('in', 'ADP'), ('1956', 'NUM'), ('.', '.')], [('Although', 'ADP'), ('preliminary', 'ADJ'), ('findings', 'NOUN'), ('were', 'VERB'), ('reported', 'VERB'), ('*-2', 'X'), ('more', 'ADV'), ('than', 'ADP'), ('a', 'DET'), ('year', 'NOUN'), ('ago', 'ADP'), (',', '.'), ('the', 'DET'), ('latest', 'ADJ'), ('results', 'NOUN'), ('appear', 'VERB'), ('in', 'ADP'), ('today', 'NOUN'), (\"'s\", 'PRT'), ('New', 'NOUN'), ('England', 'NOUN'), ('Journal', 'NOUN'), ('of', 'ADP'), ('Medicine', 'NOUN'), (',', '.'), ('a', 'DET'), ('forum', 'NOUN'), ('likely', 'ADJ'), ('*', 'X'), ('to', 'PRT'), ('bring', 'VERB'), ('new', 'ADJ'), ('attention', 'NOUN'), ('to', 'PRT'), ('the', 'DET'), ('problem', 'NOUN'), ('.', '.')], [('A', 'DET'), ('Lorillard', 'NOUN'), ('spokewoman', 'NOUN'), ('said', 'VERB'), (',', '.'), ('``', '.'), ('This', 'DET'), ('is', 'VERB'), ('an', 'DET'), ('old', 'ADJ'), ('story', 'NOUN'), ('.', '.')], [('We', 'PRON'), (\"'re\", 'VERB'), ('talking', 'VERB'), ('about', 'ADP'), ('years', 'NOUN'), ('ago', 'ADP'), ('before', 'ADP'), ('anyone', 'NOUN'), ('heard', 'VERB'), ('of', 'ADP'), ('asbestos', 'NOUN'), ('having', 'VERB'), ('any', 'DET'), ('questionable', 'ADJ'), ('properties', 'NOUN'), ('.', '.')], [('There', 'DET'), ('is', 'VERB'), ('no', 'DET'), ('asbestos', 'NOUN'), ('in', 'ADP'), ('our', 'PRON'), ('products', 'NOUN'), ('now', 'ADV'), ('.', '.'), (\"''\", '.')], [('Neither', 'DET'), ('Lorillard', 'NOUN'), ('nor', 'CONJ'), ('the', 'DET'), ('researchers', 'NOUN'), ('who', 'PRON'), ('*T*-3', 'X'), ('studied', 'VERB'), ('the', 'DET'), ('workers', 'NOUN'), ('were', 'VERB'), ('aware', 'ADJ'), ('of', 'ADP'), ('any', 'DET'), ('research', 'NOUN'), ('on', 'ADP'), ('smokers', 'NOUN'), ('of', 'ADP'), ('the', 'DET'), ('Kent', 'NOUN'), ('cigarettes', 'NOUN'), ('.', '.')], [('``', '.'), ('We', 'PRON'), ('have', 'VERB'), ('no', 'DET'), ('useful', 'ADJ'), ('information', 'NOUN'), ('on', 'ADP'), ('whether', 'ADP'), ('users', 'NOUN'), ('are', 'VERB'), ('at', 'ADP'), ('risk', 'NOUN'), (',', '.'), (\"''\", '.'), ('said', 'VERB'), ('*T*-1', 'X'), ('James', 'NOUN'), ('A.', 'NOUN'), ('Talcott', 'NOUN'), ('of', 'ADP'), ('Boston', 'NOUN'), (\"'s\", 'PRT'), ('Dana-Farber', 'NOUN'), ('Cancer', 'NOUN'), ('Institute', 'NOUN'), ('.', '.')], [('Dr.', 'NOUN'), ('Talcott', 'NOUN'), ('led', 'VERB'), ('a', 'DET'), ('team', 'NOUN'), ('of', 'ADP'), ('researchers', 'NOUN'), ('from', 'ADP'), ('the', 'DET'), ('National', 'NOUN'), ('Cancer', 'NOUN'), ('Institute', 'NOUN'), ('and', 'CONJ'), ('the', 'DET'), ('medical', 'ADJ'), ('schools', 'NOUN'), ('of', 'ADP'), ('Harvard', 'NOUN'), ('University', 'NOUN'), ('and', 'CONJ'), ('Boston', 'NOUN'), ('University', 'NOUN'), ('.', '.')], [('The', 'DET'), ('Lorillard', 'NOUN'), ('spokeswoman', 'NOUN'), ('said', 'VERB'), ('0', 'X'), ('asbestos', 'NOUN'), ('was', 'VERB'), ('used', 'VERB'), ('*-1', 'X'), ('in', 'ADP'), ('``', '.'), ('very', 'ADV'), ('modest', 'ADJ'), ('amounts', 'NOUN'), (\"''\", '.'), ('in', 'ADP'), ('*', 'X'), ('making', 'VERB'), ('paper', 'NOUN'), ('for', 'ADP'), ('the', 'DET'), ('filters', 'NOUN'), ('in', 'ADP'), ('the', 'DET'), ('early', 'ADJ'), ('1950s', 'NUM'), ('and', 'CONJ'), ('replaced', 'VERB'), ('*-1', 'X'), ('with', 'ADP'), ('a', 'DET'), ('different', 'ADJ'), ('type', 'NOUN'), ('of', 'ADP'), ('filter', 'NOUN'), ('in', 'ADP'), ('1956', 'NUM'), ('.', '.')], [('From', 'ADP'), ('1953', 'NUM'), ('to', 'PRT'), ('1955', 'NUM'), (',', '.'), ('9.8', 'NUM'), ('billion', 'NUM'), ('Kent', 'NOUN'), ('cigarettes', 'NOUN'), ('with', 'ADP'), ('the', 'DET'), ('filters', 'NOUN'), ('were', 'VERB'), ('sold', 'VERB'), ('*-3', 'X'), (',', '.'), ('the', 'DET'), ('company', 'NOUN'), ('said', 'VERB'), ('0', 'X'), ('*T*-1', 'X'), ('.', '.')], [('Among', 'ADP'), ('33', 'NUM'), ('men', 'NOUN'), ('who', 'PRON'), ('*T*-4', 'X'), ('worked', 'VERB'), ('closely', 'ADV'), ('with', 'ADP'), ('the', 'DET'), ('substance', 'NOUN'), (',', '.'), ('28', 'NUM'), ('*ICH*-1', 'X'), ('have', 'VERB'), ('died', 'VERB'), ('--', '.'), ('more', 'ADJ'), ('than', 'ADP'), ('three', 'NUM'), ('times', 'NOUN'), ('the', 'DET'), ('expected', 'VERB'), ('number', 'NOUN'), ('.', '.')], [('Four', 'NUM'), ('of', 'ADP'), ('the', 'DET'), ('five', 'NUM'), ('surviving', 'VERB'), ('workers', 'NOUN'), ('have', 'VERB'), ('asbestos-related', 'ADJ'), ('diseases', 'NOUN'), (',', '.'), ('including', 'VERB'), ('three', 'NUM'), ('with', 'ADP'), ('recently', 'ADV'), ('diagnosed', 'VERB'), ('cancer', 'NOUN'), ('.', '.')], [('The', 'DET'), ('total', 'NOUN'), ('of', 'ADP'), ('18', 'NUM'), ('deaths', 'NOUN'), ('from', 'ADP'), ('malignant', 'ADJ'), ('mesothelioma', 'NOUN'), (',', '.'), ('lung', 'NOUN'), ('cancer', 'NOUN'), ('and', 'CONJ'), ('asbestosis', 'NOUN'), ('was', 'VERB'), ('far', 'ADV'), ('higher', 'ADJ'), ('than', 'ADP'), ('*', 'X'), ('expected', 'VERB'), ('*?*', 'X'), (',', '.'), ('the', 'DET'), ('researchers', 'NOUN'), ('said', 'VERB'), ('0', 'X'), ('*T*-1', 'X'), ('.', '.')], [('``', '.'), ('The', 'DET'), ('morbidity', 'NOUN'), ('rate', 'NOUN'), ('is', 'VERB'), ('a', 'DET'), ('striking', 'ADJ'), ('finding', 'NOUN'), ('among', 'ADP'), ('those', 'DET'), ('of', 'ADP'), ('us', 'PRON'), ('who', 'PRON'), ('*T*-5', 'X'), ('study', 'VERB'), ('asbestos-related', 'ADJ'), ('diseases', 'NOUN'), (',', '.'), (\"''\", '.'), ('said', 'VERB'), ('*T*-1', 'X'), ('Dr.', 'NOUN'), ('Talcott', 'NOUN'), ('.', '.')], [('The', 'DET'), ('percentage', 'NOUN'), ('of', 'ADP'), ('lung', 'NOUN'), ('cancer', 'NOUN'), ('deaths', 'NOUN'), ('among', 'ADP'), ('the', 'DET'), ('workers', 'NOUN'), ('at', 'ADP'), ('the', 'DET'), ('West', 'NOUN'), ('Groton', 'NOUN'), (',', '.'), ('Mass.', 'NOUN'), (',', '.'), ('paper', 'NOUN'), ('factory', 'NOUN'), ('appears', 'VERB'), ('*-1', 'X'), ('to', 'PRT'), ('be', 'VERB'), ('the', 'DET'), ('highest', 'ADJ'), ('for', 'ADP'), ('any', 'DET'), ('asbestos', 'NOUN'), ('workers', 'NOUN'), ('studied', 'VERB'), ('*', 'X'), ('in', 'ADP'), ('Western', 'ADJ'), ('industrialized', 'VERB'), ('countries', 'NOUN'), (',', '.'), ('he', 'PRON'), ('said', 'VERB'), ('0', 'X'), ('*T*-2', 'X'), ('.', '.')], [('The', 'DET'), ('plant', 'NOUN'), (',', '.'), ('which', 'DET'), ('*T*-1', 'X'), ('is', 'VERB'), ('owned', 'VERB'), ('*-4', 'X'), ('by', 'ADP'), ('Hollingsworth', 'NOUN'), ('&', 'CONJ'), ('Vose', 'NOUN'), ('Co.', 'NOUN'), (',', '.'), ('was', 'VERB'), ('under', 'ADP'), ('contract', 'NOUN'), ('*ICH*-2', 'X'), ('with', 'ADP'), ('Lorillard', 'NOUN'), ('*', 'X'), ('to', 'PRT'), ('make', 'VERB'), ('the', 'DET'), ('cigarette', 'NOUN'), ('filters', 'NOUN'), ('.', '.')], [('The', 'DET'), ('finding', 'NOUN'), ('probably', 'ADV'), ('will', 'VERB'), ('support', 'VERB'), ('those', 'DET'), ('who', 'PRON'), ('*T*-6', 'X'), ('argue', 'VERB'), ('that', 'ADP'), ('the', 'DET'), ('U.S.', 'NOUN'), ('should', 'VERB'), ('regulate', 'VERB'), ('the', 'DET'), ('class', 'NOUN'), ('of', 'ADP'), ('asbestos', 'NOUN'), ('including', 'VERB'), ('crocidolite', 'NOUN'), ('more', 'ADV'), ('stringently', 'ADV'), ('than', 'ADP'), ('the', 'DET'), ('common', 'ADJ'), ('kind', 'NOUN'), ('of', 'ADP'), ('asbestos', 'NOUN'), (',', '.'), ('chrysotile', 'NOUN'), (',', '.'), ('found', 'VERB'), ('*', 'X'), ('in', 'ADP'), ('most', 'ADJ'), ('schools', 'NOUN'), ('and', 'CONJ'), ('other', 'ADJ'), ('buildings', 'NOUN'), (',', '.'), ('Dr.', 'NOUN'), ('Talcott', 'NOUN'), ('said', 'VERB'), ('0', 'X'), ('*T*-1', 'X'), ('.', '.')], [('The', 'DET'), ('U.S.', 'NOUN'), ('is', 'VERB'), ('one', 'NUM'), ('of', 'ADP'), ('the', 'DET'), ('few', 'ADJ'), ('industrialized', 'VERB'), ('nations', 'NOUN'), ('that', 'DET'), ('*T*-7', 'X'), ('does', 'VERB'), (\"n't\", 'ADV'), ('have', 'VERB'), ('a', 'DET'), ('higher', 'ADJ'), ('standard', 'NOUN'), ('of', 'ADP'), ('regulation', 'NOUN'), ('for', 'ADP'), ('the', 'DET'), ('smooth', 'ADJ'), (',', '.'), ('needle-like', 'ADJ'), ('fibers', 'NOUN'), ('such', 'ADJ'), ('as', 'ADP'), ('crocidolite', 'NOUN'), ('that', 'DET'), ('*T*-1', 'X'), ('are', 'VERB'), ('classified', 'VERB'), ('*-5', 'X'), ('as', 'ADP'), ('amphobiles', 'NOUN'), (',', '.'), ('according', 'VERB'), ('to', 'PRT'), ('Brooke', 'NOUN'), ('T.', 'NOUN'), ('Mossman', 'NOUN'), (',', '.'), ('a', 'DET'), ('professor', 'NOUN'), ('of', 'ADP'), ('pathlogy', 'NOUN'), ('at', 'ADP'), ('the', 'DET'), ('University', 'NOUN'), ('of', 'ADP'), ('Vermont', 'NOUN'), ('College', 'NOUN'), ('of', 'ADP'), ('Medicine', 'NOUN'), ('.', '.')], [('More', 'ADV'), ('common', 'ADJ'), ('chrysotile', 'NOUN'), ('fibers', 'NOUN'), ('are', 'VERB'), ('curly', 'ADJ'), ('and', 'CONJ'), ('are', 'VERB'), ('more', 'ADV'), ('easily', 'ADV'), ('rejected', 'VERB'), ('*-1', 'X'), ('by', 'ADP'), ('the', 'DET'), ('body', 'NOUN'), (',', '.'), ('Dr.', 'NOUN'), ('Mossman', 'NOUN'), ('explained', 'VERB'), ('0', 'X'), ('*T*-2', 'X'), ('.', '.')], [('In', 'ADP'), ('July', 'NOUN'), (',', '.'), ('the', 'DET'), ('Environmental', 'NOUN'), ('Protection', 'NOUN'), ('Agency', 'NOUN'), ('imposed', 'VERB'), ('a', 'DET'), ('gradual', 'ADJ'), ('ban', 'NOUN'), ('on', 'ADP'), ('virtually', 'ADV'), ('all', 'DET'), ('uses', 'NOUN'), ('of', 'ADP'), ('asbestos', 'NOUN'), ('.', '.')], [('By', 'ADP'), ('1997', 'NUM'), (',', '.'), ('almost', 'ADV'), ('all', 'DET'), ('remaining', 'VERB'), ('uses', 'NOUN'), ('of', 'ADP'), ('cancer-causing', 'ADJ'), ('asbestos', 'NOUN'), ('will', 'VERB'), ('be', 'VERB'), ('outlawed', 'VERB'), ('*-6', 'X'), ('.', '.')], [('About', 'ADP'), ('160', 'NUM'), ('workers', 'NOUN'), ('at', 'ADP'), ('a', 'DET'), ('factory', 'NOUN'), ('that', 'DET'), ('*T*-8', 'X'), ('made', 'VERB'), ('paper', 'NOUN'), ('for', 'ADP'), ('the', 'DET'), ('Kent', 'NOUN'), ('filters', 'NOUN'), ('were', 'VERB'), ('exposed', 'VERB'), ('*-7', 'X'), ('to', 'PRT'), ('asbestos', 'NOUN'), ('in', 'ADP'), ('the', 'DET'), ('1950s', 'NUM'), ('.', '.')], [('Areas', 'NOUN'), ('of', 'ADP'), ('the', 'DET'), ('factory', 'NOUN'), ('*ICH*-2', 'X'), ('were', 'VERB'), ('particularly', 'ADV'), ('dusty', 'ADJ'), ('where', 'ADV'), ('the', 'DET'), ('crocidolite', 'NOUN'), ('was', 'VERB'), ('used', 'VERB'), ('*-8', 'X'), ('*T*-1', 'X'), ('.', '.')], [('Workers', 'NOUN'), ('dumped', 'VERB'), ('large', 'ADJ'), ('burlap', 'NOUN'), ('sacks', 'NOUN'), ('of', 'ADP'), ('the', 'DET'), ('imported', 'VERB'), ('material', 'NOUN'), ('into', 'ADP'), ('a', 'DET'), ('huge', 'ADJ'), ('bin', 'NOUN'), (',', '.'), ('poured', 'VERB'), ('in', 'PRT'), ('cotton', 'NOUN'), ('and', 'CONJ'), ('acetate', 'NOUN'), ('fibers', 'NOUN'), ('and', 'CONJ'), ('mechanically', 'ADV'), ('mixed', 'VERB'), ('the', 'DET'), ('dry', 'ADJ'), ('fibers', 'NOUN'), ('in', 'ADP'), ('a', 'DET'), ('process', 'NOUN'), ('used', 'VERB'), ('*', 'X'), ('*', 'X'), ('to', 'PRT'), ('make', 'VERB'), ('filters', 'NOUN'), ('.', '.')], [('Workers', 'NOUN'), ('described', 'VERB'), ('``', '.'), ('clouds', 'NOUN'), ('of', 'ADP'), ('blue', 'ADJ'), ('dust', 'NOUN'), (\"''\", '.'), ('that', 'DET'), ('*T*-1', 'X'), ('hung', 'VERB'), ('over', 'ADP'), ('parts', 'NOUN'), ('of', 'ADP'), ('the', 'DET'), ('factory', 'NOUN'), (',', '.'), ('even', 'ADV'), ('though', 'ADP'), ('exhaust', 'NOUN'), ('fans', 'NOUN'), ('ventilated', 'VERB'), ('the', 'DET'), ('area', 'NOUN'), ('.', '.')], [('``', '.'), ('There', 'DET'), (\"'s\", 'VERB'), ('no', 'DET'), ('question', 'NOUN'), ('that', 'ADP'), ('some', 'DET'), ('of', 'ADP'), ('those', 'DET'), ('workers', 'NOUN'), ('and', 'CONJ'), ('managers', 'NOUN'), ('contracted', 'VERB'), ('asbestos-related', 'ADJ'), ('diseases', 'NOUN'), (',', '.'), (\"''\", '.'), ('said', 'VERB'), ('*T*-1', 'X'), ('Darrell', 'NOUN'), ('Phillips', 'NOUN'), (',', '.'), ('vice', 'NOUN'), ('president', 'NOUN'), ('of', 'ADP'), ('human', 'ADJ'), ('resources', 'NOUN'), ('for', 'ADP'), ('Hollingsworth', 'NOUN'), ('&', 'CONJ'), ('Vose', 'NOUN'), ('.', '.')], [('``', '.'), ('But', 'CONJ'), ('you', 'PRON'), ('have', 'VERB'), ('*-1', 'X'), ('to', 'PRT'), ('recognize', 'VERB'), ('that', 'ADP'), ('these', 'DET'), ('events', 'NOUN'), ('took', 'VERB'), ('place', 'NOUN'), ('35', 'NUM'), ('years', 'NOUN'), ('ago', 'ADP'), ('.', '.')], [('It', 'PRON'), ('has', 'VERB'), ('no', 'DET'), ('bearing', 'NOUN'), ('on', 'ADP'), ('our', 'PRON'), ('work', 'NOUN'), ('force', 'NOUN'), ('today', 'NOUN'), ('.', '.')], [('Yields', 'NOUN'), ('on', 'ADP'), ('money-market', 'ADJ'), ('mutual', 'ADJ'), ('funds', 'NOUN'), ('continued', 'VERB'), ('*-1', 'X'), ('to', 'PRT'), ('slide', 'VERB'), (',', '.'), ('amid', 'ADP'), ('signs', 'NOUN'), ('that', 'ADP'), ('portfolio', 'NOUN'), ('managers', 'NOUN'), ('expect', 'VERB'), ('further', 'ADJ'), ('declines', 'NOUN'), ('in', 'ADP'), ('interest', 'NOUN'), ('rates', 'NOUN'), ('.', '.')], [('The', 'DET'), ('average', 'ADJ'), ('seven-day', 'ADJ'), ('compound', 'NOUN'), ('yield', 'NOUN'), ('of', 'ADP'), ('the', 'DET'), ('400', 'NUM'), ('taxable', 'ADJ'), ('funds', 'NOUN'), ('tracked', 'VERB'), ('*', 'X'), ('by', 'ADP'), ('IBC', 'NOUN'), (\"'s\", 'PRT'), ('Money', 'NOUN'), ('Fund', 'NOUN'), ('Report', 'NOUN'), ('eased', 'VERB'), ('a', 'DET'), ('fraction', 'NOUN'), ('of', 'ADP'), ('a', 'DET'), ('percentage', 'NOUN'), ('point', 'NOUN'), ('to', 'PRT'), ('8.45', 'NUM'), ('%', 'NOUN'), ('from', 'ADP'), ('8.47', 'NUM'), ('%', 'NOUN'), ('for', 'ADP'), ('the', 'DET'), ('week', 'NOUN'), ('ended', 'VERB'), ('Tuesday', 'NOUN'), ('.', '.')], [('Compound', 'NOUN'), ('yields', 'NOUN'), ('assume', 'VERB'), ('reinvestment', 'NOUN'), ('of', 'ADP'), ('dividends', 'NOUN'), ('and', 'CONJ'), ('that', 'ADP'), ('the', 'DET'), ('current', 'ADJ'), ('yield', 'NOUN'), ('continues', 'VERB'), ('for', 'ADP'), ('a', 'DET'), ('year', 'NOUN'), ('.', '.')], [('Average', 'ADJ'), ('maturity', 'NOUN'), ('of', 'ADP'), ('the', 'DET'), ('funds', 'NOUN'), (\"'\", 'PRT'), ('investments', 'NOUN'), ('lengthened', 'VERB'), ('by', 'ADP'), ('a', 'DET'), ('day', 'NOUN'), ('to', 'PRT'), ('41', 'NUM'), ('days', 'NOUN'), (',', '.'), ('the', 'DET'), ('longest', 'ADJ'), ('since', 'ADP'), ('early', 'ADJ'), ('August', 'NOUN'), (',', '.'), ('according', 'VERB'), ('to', 'PRT'), ('Donoghue', 'NOUN'), (\"'s\", 'PRT'), ('.', '.')], [('Longer', 'ADJ'), ('maturities', 'NOUN'), ('are', 'VERB'), ('thought', 'VERB'), ('*-1', 'X'), ('to', 'PRT'), ('indicate', 'VERB'), ('declining', 'VERB'), ('interest', 'NOUN'), ('rates', 'NOUN'), ('because', 'ADP'), ('they', 'PRON'), ('permit', 'VERB'), ('portfolio', 'NOUN'), ('managers', 'NOUN'), ('to', 'PRT'), ('retain', 'VERB'), ('relatively', 'ADV'), ('higher', 'ADJ'), ('rates', 'NOUN'), ('for', 'ADP'), ('a', 'DET'), ('longer', 'ADJ'), ('period', 'NOUN'), ('.', '.')], [('Shorter', 'ADJ'), ('maturities', 'NOUN'), ('are', 'VERB'), ('considered', 'VERB'), ('*-9', 'X'), ('a', 'DET'), ('sign', 'NOUN'), ('of', 'ADP'), ('rising', 'VERB'), ('rates', 'NOUN'), ('because', 'ADP'), ('portfolio', 'NOUN'), ('managers', 'NOUN'), ('can', 'VERB'), ('capture', 'VERB'), ('higher', 'ADJ'), ('rates', 'NOUN'), ('sooner', 'ADV'), ('.', '.')], [('The', 'DET'), ('average', 'ADJ'), ('maturity', 'NOUN'), ('for', 'ADP'), ('funds', 'NOUN'), ('open', 'ADJ'), ('only', 'ADV'), ('to', 'PRT'), ('institutions', 'NOUN'), (',', '.'), ('considered', 'VERB'), ('by', 'ADP'), ('some', 'DET'), ('*', 'X'), ('to', 'PRT'), ('be', 'VERB'), ('a', 'DET'), ('stronger', 'ADJ'), ('indicator', 'NOUN'), ('because', 'ADP'), ('those', 'DET'), ('managers', 'NOUN'), ('watch', 'VERB'), ('the', 'DET'), ('market', 'NOUN'), ('closely', 'ADV'), (',', '.'), ('reached', 'VERB'), ('a', 'DET'), ('high', 'ADJ'), ('point', 'NOUN'), ('for', 'ADP'), ('the', 'DET'), ('year', 'NOUN'), ('--', '.'), ('33', 'NUM'), ('days', 'NOUN'), ('.', '.')]]\n"
     ]
    }
   ],
   "source": [
    "# first few tagged sentences\n",
    "print(nltk_default_dataset[:40])"
   ]
  },
  {
   "cell_type": "code",
   "execution_count": 568,
   "metadata": {},
   "outputs": [
    {
     "name": "stdout",
     "output_type": "stream",
     "text": [
      "3718\n",
      "196\n",
      "[[('Younkers', 'NOUN'), ('rang', 'VERB'), ('up', 'PRT'), ('sales', 'NOUN'), ('*ICH*-1', 'X'), ('in', 'ADP'), ('1988', 'NUM'), ('of', 'ADP'), ('$', '.'), ('313', 'NUM'), ('million', 'NUM'), ('*U*', 'X'), ('.', '.')], [('``', '.'), ('A', 'DET'), ('lot', 'NOUN'), ('of', 'ADP'), ('the', 'DET'), ('stocks', 'NOUN'), ('that', 'DET'), ('*T*-117', 'X'), ('have', 'VERB'), ('been', 'VERB'), ('under', 'ADP'), ('water', 'NOUN'), ('finally', 'ADV'), ('saw', 'VERB'), ('a', 'DET'), ('reason', 'NOUN'), ('0', 'X'), ('*', 'X'), ('to', 'PRT'), ('uptick', 'VERB'), ('*T*-1', 'X'), (',', '.'), (\"''\", '.'), ('said', 'VERB'), ('*T*-2', 'X'), ('George', 'NOUN'), ('Jennison', 'NOUN'), (',', '.'), ('head', 'ADJ'), ('trader', 'NOUN'), ('of', 'ADP'), ('banking', 'NOUN'), ('issues', 'NOUN'), ('in', 'ADP'), ('Shearson', 'NOUN'), ('Lehman', 'NOUN'), ('Hutton', 'NOUN'), (\"'s\", 'PRT'), ('OTC', 'NOUN'), ('department', 'NOUN'), ('.', '.')], [('Program', 'NOUN'), ('trading', 'NOUN'), ('--', '.'), ('A', 'DET'), ('wide', 'ADJ'), ('range', 'NOUN'), ('of', 'ADP'), ('computer-assisted', 'ADJ'), ('portfolio', 'NOUN'), ('trading', 'NOUN'), ('strategies', 'NOUN'), ('involving', 'VERB'), ('the', 'DET'), ('simultaneous', 'ADJ'), ('purchase', 'NOUN'), ('or', 'CONJ'), ('sale', 'NOUN'), ('of', 'ADP'), ('15', 'NUM'), ('or', 'CONJ'), ('more', 'ADJ'), ('stocks', 'NOUN'), ('.', '.')], [('The', 'DET'), ('loan', 'NOUN'), ('may', 'VERB'), ('be', 'VERB'), ('extended', 'VERB'), ('*-1', 'X'), ('by', 'ADP'), ('the', 'DET'), ('McAlpine', 'NOUN'), ('group', 'NOUN'), ('for', 'ADP'), ('an', 'DET'), ('additional', 'ADJ'), ('year', 'NOUN'), ('with', 'ADP'), ('an', 'DET'), ('increase', 'NOUN'), ('in', 'ADP'), ('the', 'DET'), ('conversion', 'NOUN'), ('price', 'NOUN'), ('to', 'PRT'), ('$', '.'), ('2.50', 'NUM'), ('*U*', 'X'), ('a', 'DET'), ('share', 'NOUN'), ('.', '.')], [('The', 'DET'), ('battery', 'NOUN'), ('plant', 'NOUN'), (',', '.'), ('which', 'DET'), ('*T*-2', 'X'), ('makes', 'VERB'), ('rechargeable', 'ADJ'), ('nickel', 'NOUN'), ('cadmium', 'NOUN'), ('and', 'CONJ'), ('carbon', 'NOUN'), ('zinc', 'NOUN'), ('products', 'NOUN'), (',', '.'), ('will', 'VERB'), ('be', 'VERB'), ('closed', 'VERB'), ('*-1', 'X'), ('over', 'ADP'), ('the', 'DET'), ('next', 'ADJ'), ('year', 'NOUN'), ('or', 'CONJ'), ('so', 'ADV'), (',', '.'), ('a', 'DET'), ('spokesman', 'NOUN'), ('said', 'VERB'), ('0', 'X'), ('*T*-3', 'X'), ('.', '.')], [('Each', 'DET'), ('new', 'ADJ'), ('trading', 'NOUN'), ('roadblock', 'NOUN'), ('is', 'VERB'), ('likely', 'ADJ'), ('*-1', 'X'), ('to', 'PRT'), ('be', 'VERB'), ('beaten', 'VERB'), ('*-82', 'X'), ('by', 'ADP'), ('institutions', 'NOUN'), ('seeking', 'VERB'), ('better', 'ADJ'), ('ways', 'NOUN'), ('0', 'X'), ('*', 'X'), ('to', 'PRT'), ('serve', 'VERB'), ('their', 'PRON'), ('high-volume', 'ADJ'), ('clients', 'NOUN'), ('*T*-2', 'X'), (',', '.'), ('here', 'ADV'), ('or', 'CONJ'), ('overseas', 'ADV'), ('.', '.')], [('In', 'ADP'), ('a', 'DET'), ('victory', 'NOUN'), ('for', 'ADP'), ('environmentalists', 'NOUN'), (',', '.'), ('Hungary', 'NOUN'), (\"'s\", 'PRT'), ('parliament', 'NOUN'), ('terminated', 'VERB'), ('a', 'DET'), ('multibillion-dollar', 'ADJ'), ('River', 'NOUN'), ('Danube', 'NOUN'), ('dam', 'NOUN'), ('being', 'VERB'), ('built', 'VERB'), ('*', 'X'), ('by', 'ADP'), ('Austrian', 'ADJ'), ('firms', 'NOUN'), ('.', '.')], [('In', 'ADP'), ('*', 'X'), ('quoting', 'VERB'), ('from', 'ADP'), ('our', 'PRON'), ('research', 'NOUN'), ('you', 'PRON'), ('emphasized', 'VERB'), ('the', 'DET'), ('high', 'ADJ'), ('prevalance', 'NOUN'), ('of', 'ADP'), ('mental', 'ADJ'), ('illness', 'NOUN'), ('and', 'CONJ'), ('alcoholism', 'NOUN'), ('.', '.')], [('A', 'DET'), ('House', 'NOUN'), ('aide', 'NOUN'), ('suggested', 'VERB'), ('that', 'ADP'), ('Mr.', 'NOUN'), ('Phelan', 'NOUN'), ('was', 'VERB'), ('so', 'ADV'), ('``', '.'), ('vague', 'ADJ'), ('and', 'CONJ'), ('mushy', 'ADJ'), (\"''\", '.'), ('that', 'ADP'), ('it', 'PRON'), ('was', 'VERB'), ('the', 'DET'), ('kind', 'NOUN'), ('of', 'ADP'), ('meeting', 'NOUN'), ('where', 'ADV'), ('people', 'NOUN'), ('of', 'ADP'), ('all', 'DET'), ('viewpoints', 'NOUN'), ('could', 'VERB'), ('``', '.'), ('come', 'VERB'), ('out', 'ADV'), ('*-2', 'X'), ('feeling', 'VERB'), ('good', 'ADJ'), ('*T*-1', 'X'), ('.', '.'), (\"''\", '.')], [('But', 'CONJ'), ('the', 'DET'), ('most', 'ADV'), ('important', 'ADJ'), ('source', 'NOUN'), ('of', 'ADP'), ('points', 'NOUN'), ('was', 'VERB'), ('student', 'NOUN'), ('improvement', 'NOUN'), ('on', 'ADP'), ('tests', 'NOUN'), ('.', '.')], [('Nylev', 'NOUN'), ('Municipal', 'NOUN'), ('Fund', 'NOUN'), ('Inc.', 'NOUN'), (',', '.'), ('offering', 'NOUN'), ('of', 'ADP'), ('five', 'NUM'), ('million', 'NUM'), ('common', 'ADJ'), ('shares', 'NOUN'), ('.', '.')], [('Its', 'PRON'), ('index', 'NOUN'), ('inched', 'VERB'), ('up', 'ADV'), ('to', 'PRT'), ('47.6', 'NUM'), ('%', 'NOUN'), ('in', 'ADP'), ('October', 'NOUN'), ('from', 'ADP'), ('46', 'NUM'), ('%', 'NOUN'), ('in', 'ADP'), ('September', 'NOUN'), ('.', '.')], [('The', 'DET'), ('Dow', 'NOUN'), ('Jones', 'NOUN'), ('Industrial', 'NOUN'), ('Average', 'NOUN'), ('finished', 'VERB'), ('less', 'ADJ'), ('than', 'ADP'), ('a', 'DET'), ('point', 'NOUN'), ('higher', 'ADV'), ('*-1', 'X'), ('to', 'PRT'), ('close', 'VERB'), ('at', 'ADP'), ('2645.90', 'NUM'), ('in', 'ADP'), ('moderate', 'ADJ'), ('trading', 'VERB'), ('.', '.')], [('``', '.'), ('He', 'PRON'), ('has', 'VERB'), ('clamped', 'VERB'), ('on', 'ADP'), ('their', 'PRON'), ('ankle', 'NOUN'), ('like', 'ADP'), ('a', 'DET'), ('pit', 'NOUN'), ('bull', 'NOUN'), (',', '.'), (\"''\", '.'), ('says', 'VERB'), ('*T*-1', 'X'), ('Paul', 'NOUN'), ('Leming', 'NOUN'), (',', '.'), ('a', 'DET'), ('vice', 'NOUN'), ('president', 'NOUN'), ('with', 'ADP'), ('Morgan', 'NOUN'), ('Stanley', 'NOUN'), ('&', 'CONJ'), ('Co', 'NOUN'), ('.', '.')], [('Campbell', 'NOUN'), ('Soup', 'NOUN'), ('jumped', 'VERB'), ('3', 'NUM'), ('3\\\\/8', 'NUM'), ('to', 'PRT'), ('47', 'NUM'), ('1\\\\/8', 'NUM'), ('as', 'ADP'), ('the', 'DET'), ('resignation', 'NOUN'), ('of', 'ADP'), ('R.', 'NOUN'), ('Gordon', 'NOUN'), ('McGovern', 'NOUN'), ('as', 'ADP'), ('president', 'NOUN'), ('and', 'CONJ'), ('chief', 'NOUN'), ('executive', 'NOUN'), ('officer', 'NOUN'), ('sparked', 'VERB'), ('a', 'DET'), ('revival', 'NOUN'), ('of', 'ADP'), ('rumors', 'NOUN'), ('that', 'ADP'), ('the', 'DET'), ('company', 'NOUN'), ('could', 'VERB'), ('become', 'VERB'), ('a', 'DET'), ('takeover', 'NOUN'), ('target', 'NOUN'), ('.', '.')], [('``', '.'), ('Wall', 'NOUN'), ('Street', 'NOUN'), ('is', 'VERB'), ('facing', 'VERB'), ('a', 'DET'), ('Catch-22', 'NOUN'), ('situation', 'NOUN'), (',', '.'), (\"''\", '.'), ('says', 'VERB'), ('*T*-1', 'X'), ('Mr.', 'NOUN'), ('Mahoney', 'NOUN'), ('of', 'ADP'), ('Moody', 'NOUN'), (\"'s\", 'PRT'), ('.', '.')], [('Mitsui', 'NOUN'), ('Mining', 'NOUN'), ('&', 'CONJ'), ('Smelting', 'NOUN'), ('Co.', 'NOUN'), ('posted', 'VERB'), ('a', 'DET'), ('62', 'NUM'), ('%', 'NOUN'), ('rise', 'NOUN'), ('in', 'ADP'), ('pretax', 'ADJ'), ('profit', 'NOUN'), ('to', 'PRT'), ('5.276', 'NUM'), ('billion', 'NUM'), ('yen', 'NOUN'), ('-LRB-', '.'), ('$', '.'), ('36.9', 'NUM'), ('million', 'NUM'), ('*U*', 'X'), ('-RRB-', '.'), ('in', 'ADP'), ('its', 'PRON'), ('fiscal', 'ADJ'), ('first', 'ADJ'), ('half', 'NOUN'), ('ended', 'VERB'), ('Sept.', 'ADJ'), ('30', 'NUM'), ('compared', 'VERB'), ('with', 'ADP'), ('3.253', 'NUM'), ('billion', 'NUM'), ('yen', 'NOUN'), ('a', 'DET'), ('year', 'NOUN'), ('earlier', 'ADV'), ('.', '.')], [('``', '.'), ('It', 'PRON'), ('has', 'VERB'), ('not', 'ADV'), ('been', 'VERB'), ('disruptive', 'ADJ'), ('in', 'ADP'), ('the', 'DET'), ('markets', 'NOUN'), ('here', 'ADV'), (',', '.'), (\"''\", '.'), ('Mr.', 'NOUN'), ('Maughan', 'NOUN'), ('said', 'VERB'), ('*T*-1', 'X'), ('.', '.')], [('At', 'ADP'), ('the', 'DET'), ('same', 'ADJ'), ('time', 'NOUN'), (',', '.'), ('dealers', 'NOUN'), ('said', 'VERB'), ('0', 'X'), ('the', 'DET'), ('U.S.', 'NOUN'), ('unit', 'NOUN'), ('has', 'VERB'), ('been', 'VERB'), ('locked', 'VERB'), ('*-1', 'X'), ('into', 'ADP'), ('a', 'DET'), ('relatively', 'ADV'), ('narrow', 'ADJ'), ('range', 'NOUN'), ('in', 'ADP'), ('recent', 'ADJ'), ('weeks', 'NOUN'), (',', '.'), ('in', 'ADP'), ('part', 'NOUN'), ('because', 'ADP'), ('the', 'DET'), ('hefty', 'ADJ'), ('Japanese', 'ADJ'), ('demand', 'NOUN'), ('for', 'ADP'), ('dollars', 'NOUN'), ('has', 'VERB'), ('been', 'VERB'), ('offset', 'VERB'), ('*-2', 'X'), ('by', 'ADP'), ('the', 'DET'), ('mark', 'NOUN'), (\"'s\", 'PRT'), ('strength', 'NOUN'), (',', '.'), ('*', 'X'), ('resulting', 'VERB'), ('in', 'ADP'), ('a', 'DET'), ('stalemate', 'NOUN'), ('.', '.')], [('The', 'DET'), ('radio', 'NOUN'), ('show', 'NOUN'), ('``', '.'), ('enraged', 'VERB'), ('us', 'PRON'), (',', '.'), (\"''\", '.'), ('says', 'VERB'), ('*T*-1', 'X'), ('Mrs.', 'NOUN'), ('Ward', 'NOUN'), ('.', '.')], [('It', 'PRON'), ('also', 'ADV'), ('asks', 'VERB'), ('them', 'PRON'), ('*-1', 'X'), ('to', 'PRT'), ('add', 'VERB'), ('two-sevenths', 'NOUN'), ('and', 'CONJ'), ('three-sevenths', 'NOUN'), ('.', '.')], [('The', 'DET'), ('financial-services', 'NOUN'), ('company', 'NOUN'), ('will', 'VERB'), ('pay', 'VERB'), ('0.82', 'NUM'), ('share', 'NOUN'), ('for', 'ADP'), ('each', 'DET'), ('Williams', 'NOUN'), ('share', 'NOUN'), ('.', '.')], [('A', 'DET'), ('seat', 'NOUN'), ('on', 'ADP'), ('the', 'DET'), ('Chicago', 'NOUN'), ('Board', 'NOUN'), ('of', 'ADP'), ('Trade', 'NOUN'), ('was', 'VERB'), ('sold', 'VERB'), ('*-1', 'X'), ('for', 'ADP'), ('$', '.'), ('350,000', 'NUM'), ('*U*', 'X'), (',', '.'), ('down', 'ADV'), ('$', '.'), ('16,000', 'NUM'), ('*U*', 'X'), ('from', 'ADP'), ('the', 'DET'), ('previous', 'ADJ'), ('sale', 'NOUN'), ('last', 'ADJ'), ('Friday', 'NOUN'), ('.', '.')], [('Trading', 'NOUN'), ('was', 'VERB'), ('muted', 'VERB'), ('*-1', 'X'), ('in', 'ADP'), ('part', 'NOUN'), ('because', 'ADP'), ('of', 'ADP'), ('the', 'DET'), ('observance', 'NOUN'), ('of', 'ADP'), ('All', 'NOUN'), ('Saints', 'NOUN'), (\"'\", 'PRT'), ('Day', 'NOUN'), ('across', 'ADP'), ('much', 'ADJ'), ('of', 'ADP'), ('Europe', 'NOUN'), ('.', '.')], [('Some', 'DET'), ('dealers', 'NOUN'), ('said', 'VERB'), ('0', 'X'), ('the', 'DET'), ('dollar', 'NOUN'), ('was', 'VERB'), ('pressured', 'ADJ'), ('*-1', 'X'), ('slightly', 'ADV'), ('because', 'ADP'), ('a', 'DET'), ('number', 'NOUN'), ('of', 'ADP'), ('market', 'NOUN'), ('participants', 'NOUN'), ('had', 'VERB'), ('boosted', 'VERB'), ('their', 'PRON'), ('expectations', 'NOUN'), ('in', 'ADP'), ('the', 'DET'), ('past', 'ADJ'), ('day', 'NOUN'), ('and', 'CONJ'), ('were', 'VERB'), ('looking', 'VERB'), ('for', 'ADP'), ('an', 'DET'), ('index', 'NOUN'), ('above', 'ADP'), ('50', 'NUM'), (',', '.'), ('which', 'DET'), ('*T*-148', 'X'), ('indicates', 'VERB'), ('an', 'DET'), ('expanding', 'VERB'), ('manufacturing', 'NOUN'), ('economy', 'NOUN'), ('.', '.')], [('Institutions', 'NOUN'), ('mostly', 'ADV'), ('remained', 'VERB'), ('on', 'ADP'), ('the', 'DET'), ('sidelines', 'NOUN'), ('because', 'ADP'), ('of', 'ADP'), ('uncertainty', 'NOUN'), ('regarding', 'VERB'), ('interest', 'NOUN'), ('rates', 'NOUN'), ('and', 'CONJ'), ('the', 'DET'), ('dollar', 'NOUN'), ('.', '.')], [('Its', 'PRON'), ('1989-90', 'NUM'), ('exports', 'NOUN'), ('were', 'VERB'), ('expected', 'VERB'), ('*-1', 'X'), ('to', 'PRT'), ('total', 'VERB'), ('645,000', 'NUM'), ('tons', 'NOUN'), ('in', 'ADP'), ('contrast', 'NOUN'), ('to', 'PRT'), ('shipments', 'NOUN'), ('of', 'ADP'), ('1.5', 'NUM'), ('million', 'NUM'), ('tons', 'NOUN'), ('in', 'ADP')], [('``', '.'), ('She', 'PRON'), ('taught', 'VERB'), ('us', 'PRON'), ('more', 'ADJ'), ('in', 'ADP'), ('Western', 'ADJ'), ('Civilization', 'NOUN'), ('than', 'ADP'), ('I', 'PRON'), (\"'ve\", 'VERB'), ('ever', 'ADV'), ('learned', 'VERB'), ('in', 'ADP'), ('other', 'ADJ'), ('classes', 'NOUN'), (',', '.'), (\"''\", '.'), ('says', 'VERB'), ('*T*-2', 'X'), ('Kelli', 'NOUN'), ('Green', 'NOUN'), (',', '.'), ('a', 'DET'), ('Greenville', 'NOUN'), ('senior', 'NOUN'), ('.', '.')], [('For', 'ADP'), ('instance', 'NOUN'), (',', '.'), ('at', 'ADP'), ('the', 'DET'), ('first', 'ADJ'), ('meeting', 'NOUN'), ('the', 'DET'), ('two', 'NUM'), ('sides', 'NOUN'), ('could', 'VERB'), (\"n't\", 'ADV'), ('even', 'ADV'), ('agree', 'VERB'), ('on', 'ADP'), ('basic', 'ADJ'), ('data', 'NOUN'), ('used', 'VERB'), ('*', 'X'), ('in', 'ADP'), ('price', 'NOUN'), ('discussions', 'NOUN'), ('.', '.')], [('Wellcome', 'NOUN'), ('gained', 'VERB'), ('18', 'NUM'), ('to', 'PRT'), ('666', 'NUM'), ('on', 'ADP'), ('a', 'DET'), ('modest', 'ADJ'), ('1.1', 'NUM'), ('million', 'NUM'), ('shares', 'NOUN'), ('.', '.')], [('The', 'DET'), ('leadership', 'NOUN'), ('hopes', 'VERB'), ('*-1', 'X'), ('to', 'PRT'), ('move', 'VERB'), ('the', 'DET'), ('compromise', 'NOUN'), ('measure', 'NOUN'), ('promptly', 'ADV'), ('to', 'PRT'), ('the', 'DET'), ('White', 'NOUN'), ('House', 'NOUN'), (',', '.'), ('but', 'CONJ'), ('in', 'ADP'), ('recent', 'ADJ'), ('days', 'NOUN'), (',', '.'), ('the', 'DET'), ('Senate', 'NOUN'), ('has', 'VERB'), ('been', 'VERB'), ('as', 'ADV'), ('likely', 'ADJ'), ('*-3', 'X'), ('to', 'PRT'), ('bounce', 'VERB'), ('bills', 'NOUN'), ('back', 'ADV'), ('to', 'PRT'), ('the', 'DET'), ('House', 'NOUN'), ('.', '.')], [('Mr.', 'NOUN'), ('Dingell', 'NOUN'), ('expressed', 'VERB'), ('concern', 'NOUN'), (',', '.'), ('sources', 'NOUN'), ('said', 'VERB'), ('0', 'X'), ('*T*-2', 'X'), (',', '.'), ('about', 'ADP'), ('jurisdictional', 'ADJ'), ('problems', 'NOUN'), ('in', 'ADP'), ('*', 'X'), ('regulating', 'VERB'), ('program', 'NOUN'), ('trading', 'NOUN'), (',', '.'), ('which', 'DET'), ('*T*-217', 'X'), ('uses', 'VERB'), ('futures', 'NOUN'), ('*-1', 'X'), ('to', 'PRT'), ('offset', 'VERB'), ('stock', 'NOUN'), ('trades', 'NOUN'), ('.', '.')], [('*-2', 'X'), ('Filmed', 'VERB'), ('*-1', 'X'), ('in', 'ADP'), ('lovely', 'ADJ'), ('black', 'NOUN'), ('and', 'CONJ'), ('white', 'NOUN'), ('by', 'ADP'), ('Bill', 'NOUN'), ('Dill', 'NOUN'), (',', '.'), ('the', 'DET'), ('New', 'NOUN'), ('York', 'NOUN'), ('streets', 'NOUN'), ('of', 'ADP'), ('``', '.'), ('Sidewalk', 'NOUN'), ('Stories', 'NOUN'), (\"''\", '.'), ('seem', 'VERB'), ('benign', 'ADJ'), ('.', '.')], [('In', 'ADP'), ('the', 'DET'), ('case', 'NOUN'), ('of', 'ADP'), ('copper', 'NOUN'), (',', '.'), ('he', 'PRON'), ('said', 'VERB'), ('0', 'X'), ('*T*-2', 'X'), (',', '.'), ('the', 'DET'), ('upbeat', 'ADJ'), ('mood', 'NOUN'), ('of', 'ADP'), ('stocks', 'NOUN'), ('was', 'VERB'), ('reflected', 'VERB'), ('*-1', 'X'), ('in', 'ADP'), ('demand', 'NOUN'), ('for', 'ADP'), ('futures', 'NOUN'), ('contracts', 'NOUN'), ('because', 'ADP'), ('a', 'DET'), ('stronger', 'ADJ'), ('economy', 'NOUN'), ('means', 'VERB'), ('greater', 'ADJ'), ('buying', 'NOUN'), ('interest', 'NOUN'), ('for', 'ADP'), ('the', 'DET'), ('metal', 'NOUN'), ('.', '.')], [('You', 'PRON'), ('look', 'VERB'), ('around', 'PRT'), ('at', 'ADP'), ('professional', 'ADJ'), ('ballplayers', 'NOUN'), ('or', 'CONJ'), ('accountants', 'NOUN'), ('...', '.'), ('and', 'CONJ'), ('nobody', 'NOUN'), ('blinks', 'VERB'), ('an', 'DET'), ('eye', 'NOUN'), ('.', '.')], [('The', 'DET'), ('Purchasing', 'NOUN'), ('Management', 'NOUN'), ('Association', 'NOUN'), ('of', 'ADP'), ('Chicago', 'NOUN'), (\"'s\", 'PRT'), ('October', 'NOUN'), ('index', 'NOUN'), ('rose', 'VERB'), ('to', 'PRT'), ('51.6', 'NUM'), ('%', 'NOUN'), ('after', 'ADP'), ('three', 'NUM'), ('previous', 'ADJ'), ('months', 'NOUN'), ('of', 'ADP'), ('readings', 'NOUN'), ('below', 'ADP'), ('50', 'NUM'), ('%', 'NOUN'), ('.', '.')], [('Judge', 'NOUN'), ('Ramirez', 'NOUN'), (',', '.'), ('44', 'NUM'), (',', '.'), ('said', 'VERB'), ('0', 'X'), ('it', 'PRON'), ('*EXP*-3', 'X'), ('is', 'VERB'), ('unjust', 'ADJ'), ('for', 'ADP'), ('judges', 'NOUN'), ('to', 'PRT'), ('make', 'VERB'), ('what', 'PRON'), ('they', 'PRON'), ('do', 'VERB'), ('*?*', 'X'), ('*T*-2', 'X'), ('.', '.')], [('Instead', 'ADV'), (',', '.'), ('we', 'PRON'), ('ought', 'VERB'), ('*-1', 'X'), ('to', 'PRT'), ('be', 'VERB'), ('inviting', 'VERB'), ('more', 'ADJ'), ('liquidity', 'NOUN'), ('with', 'ADP'), ('cheaper', 'ADJ'), ('ways', 'NOUN'), ('0', 'X'), ('*', 'X'), ('to', 'PRT'), ('trade', 'VERB'), ('and', 'CONJ'), ('transfer', 'VERB'), ('capital', 'NOUN'), ('among', 'ADP'), ('all', 'DET'), ('participants', 'NOUN'), ('*T*-2', 'X'), ('.', '.')], [('He', 'PRON'), ('was', 'VERB'), ('previously', 'ADV'), ('vice', 'NOUN'), ('president', 'NOUN'), ('.', '.')], [('Sometimes', 'ADV'), ('the', 'DET'), ('bribed', 'VERB'), ('became', 'VERB'), ('partners', 'NOUN'), ('in', 'ADP'), ('the', 'DET'), ('company', 'NOUN'), ('.', '.')]]\n"
     ]
    }
   ],
   "source": [
    "# Splitting the data into train and test in 95:5 ratio\n",
    "random.seed(1234)\n",
    "train_set, test_set = train_test_split(nltk_default_dataset,test_size=0.05)\n",
    "\n",
    "print(len(train_set))\n",
    "print(len(test_set))\n",
    "print(train_set[:40])"
   ]
  },
  {
   "cell_type": "code",
   "execution_count": 569,
   "metadata": {},
   "outputs": [
    {
     "data": {
      "text/plain": [
       "95851"
      ]
     },
     "execution_count": 569,
     "metadata": {},
     "output_type": "execute_result"
    }
   ],
   "source": [
    "# Getting list of tagged words\n",
    "train_tagged_words = [tup for sent in train_set for tup in sent]\n",
    "len(train_tagged_words)"
   ]
  },
  {
   "cell_type": "code",
   "execution_count": 570,
   "metadata": {},
   "outputs": [
    {
     "data": {
      "text/plain": [
       "['Younkers', 'rang', 'up', 'sales', '*ICH*-1', 'in', '1988', 'of', '$', '313']"
      ]
     },
     "execution_count": 570,
     "metadata": {},
     "output_type": "execute_result"
    }
   ],
   "source": [
    "# tokens \n",
    "tokens = [pair[0] for pair in train_tagged_words]\n",
    "tokens[:10]"
   ]
  },
  {
   "cell_type": "code",
   "execution_count": 571,
   "metadata": {},
   "outputs": [
    {
     "name": "stdout",
     "output_type": "stream",
     "text": [
      "12115\n"
     ]
    }
   ],
   "source": [
    "# vocabulary  --No. of tokens/words\n",
    "V = set(tokens)\n",
    "print(len(V))"
   ]
  },
  {
   "cell_type": "code",
   "execution_count": 572,
   "metadata": {},
   "outputs": [
    {
     "data": {
      "text/plain": [
       "12"
      ]
     },
     "execution_count": 572,
     "metadata": {},
     "output_type": "execute_result"
    }
   ],
   "source": [
    "# number of tags\n",
    "T = set([pair[1] for pair in train_tagged_words])\n",
    "len(T)"
   ]
  },
  {
   "cell_type": "code",
   "execution_count": 573,
   "metadata": {},
   "outputs": [
    {
     "name": "stdout",
     "output_type": "stream",
     "text": [
      "{'ADJ', 'ADV', 'CONJ', '.', 'PRON', 'NUM', 'VERB', 'PRT', 'NOUN', 'DET', 'ADP', 'X'}\n"
     ]
    }
   ],
   "source": [
    "# no. of tags in the corpus..\n",
    "print(T)"
   ]
  },
  {
   "cell_type": "markdown",
   "metadata": {},
   "source": [
    "## 2. POS Tagging Algorithm - HMM\n",
    "We'll use the HMM algorithm to tag the words. Given a sequence of words to be tagged, the task is to assign the most probable tag to the word.\n",
    "\n",
    "To every word w, assign the tag t that maximises the likelihood P(t/w). Since P(t/w) = P(w/t). P(t) / P(w), after ignoring P(w), we have to compute P(w/t) and P(t).\n",
    "\n",
    "P(w/t) is basically the probability that given a tag (say Noun), what is the probability of it being w (say 'building'). This can be computed by computing the fraction of all NNs which are equal to w and dividing by the count of all tags t, i.e.\n",
    "\n",
    "P(w/t) = count(w, t) / count(t).\n",
    "\n",
    "The term P(t) is the probability of tag t, and we assume that a tag will depend only on the previous tag (first-order Markov assumption). In other words, the probability of a tag being Noun will depend only on the previous tag t(n-1). So for e.g. if t(n-1) is a ADJ, then t(n) is likely to be an Noun since adjectives often precede a noun (blue coat, tall building etc.).\n",
    "\n",
    "Given the penn treebank tagged dataset, we can compute the two terms P(w/t) and P(t) and store them in two large matrices (emission and transition probabilities respectively). The matrix of P(w/t) will be sparse, since each word will not be seen with most tags ever, and those terms will thus be zero."
   ]
  },
  {
   "cell_type": "markdown",
   "metadata": {},
   "source": [
    "## Emission Probabilities"
   ]
  },
  {
   "cell_type": "code",
   "execution_count": 574,
   "metadata": {},
   "outputs": [],
   "source": [
    "# computing P(w/t) and storing in T x V matrix\n",
    "t = len(T)\n",
    "v = len(V)\n",
    "w_given_t = np.zeros((t, v))"
   ]
  },
  {
   "cell_type": "code",
   "execution_count": 575,
   "metadata": {},
   "outputs": [],
   "source": [
    "# compute word given tag: Emission Probability\n",
    "def word_given_tag(word, tag, train_bag = train_tagged_words):\n",
    "    tag_list = [pair for pair in train_bag if pair[1]==tag]\n",
    "    count_tag = len(tag_list)\n",
    "    w_given_tag_list = [pair[0] for pair in tag_list if pair[0]==word]\n",
    "    count_w_given_tag = len(w_given_tag_list)\n",
    "    \n",
    "    return (count_w_given_tag, count_tag)"
   ]
  },
  {
   "cell_type": "code",
   "execution_count": 576,
   "metadata": {},
   "outputs": [
    {
     "name": "stdout",
     "output_type": "stream",
     "text": [
      "\n",
      " large\n",
      "(27, 6066)\n",
      "(0, 12860)\n",
      "(0, 27546) \n",
      "\n"
     ]
    }
   ],
   "source": [
    "# examples\n",
    "\n",
    "# large\n",
    "print(\"\\n\", \"large\")\n",
    "print(word_given_tag('large', 'ADJ'))\n",
    "print(word_given_tag('large', 'VERB'))\n",
    "print(word_given_tag('large', 'NOUN'), \"\\n\")\n"
   ]
  },
  {
   "cell_type": "markdown",
   "metadata": {},
   "source": [
    "## Transition Probabilities"
   ]
  },
  {
   "cell_type": "code",
   "execution_count": 577,
   "metadata": {},
   "outputs": [],
   "source": [
    "# compute tag given tag: tag2(t2) given tag1 (t1), i.e. Transition Probability\n",
    "\n",
    "def t2_given_t1(t2, t1, train_bag = train_tagged_words):\n",
    "    tags = [pair[1] for pair in train_bag]\n",
    "    count_t1 = len([t for t in tags if t==t1])\n",
    "    count_t2_t1 = 0\n",
    "    for index in range(len(tags)-1):\n",
    "        if tags[index]==t1 and tags[index+1] == t2:\n",
    "            count_t2_t1 += 1\n",
    "    return (count_t2_t1, count_t1)"
   ]
  },
  {
   "cell_type": "code",
   "execution_count": 578,
   "metadata": {},
   "outputs": [],
   "source": [
    "# creating t x t transition matrix of tags\n",
    "# each column is t2, each row is t1\n",
    "# thus M(i, j) represents P(tj given ti)\n",
    "\n",
    "tags_matrix = np.zeros((len(T), len(T)), dtype='float32')\n",
    "for i, t1 in enumerate(list(T)):\n",
    "    for j, t2 in enumerate(list(T)): \n",
    "        tags_matrix[i, j] = t2_given_t1(t2, t1)[0]/t2_given_t1(t2, t1)[1]"
   ]
  },
  {
   "cell_type": "code",
   "execution_count": 579,
   "metadata": {},
   "outputs": [
    {
     "data": {
      "text/plain": [
       "array([[6.51170462e-02, 4.78074513e-03, 1.71447415e-02, 6.42927811e-02,\n",
       "        6.59413112e-04, 2.14309264e-02, 1.21991429e-02, 1.08803166e-02,\n",
       "        7.01945245e-01, 5.11045149e-03, 7.58325085e-02, 2.06066594e-02],\n",
       "       [1.27545908e-01, 7.94657767e-02, 6.34390628e-03, 1.35893151e-01,\n",
       "        1.53589314e-02, 3.20534222e-02, 3.46911520e-01, 1.43572623e-02,\n",
       "        3.20534222e-02, 6.84474111e-02, 1.19198665e-01, 2.23706178e-02],\n",
       "       [1.16612680e-01, 5.46043515e-02, 4.62748721e-04, 3.56316529e-02,\n",
       "        5.87690882e-02, 4.25728820e-02, 1.60111055e-01, 4.16473858e-03,\n",
       "        3.51226270e-01, 1.16612680e-01, 5.13651073e-02, 7.86672812e-03],\n",
       "       [4.46156599e-02, 5.19620143e-02, 5.74269854e-02, 9.19190124e-02,\n",
       "        6.49525151e-02, 8.16162005e-02, 8.87833685e-02, 2.41892133e-03,\n",
       "        2.22092822e-01, 1.75685361e-01, 9.10231173e-02, 2.74144411e-02],\n",
       "       [7.41885602e-02, 3.43894884e-02, 5.40958252e-03, 3.86398770e-02,\n",
       "        7.34157627e-03, 6.95517752e-03, 4.88794446e-01, 1.23647600e-02,\n",
       "        2.09428132e-01, 9.27357003e-03, 2.20247302e-02, 9.11901072e-02],\n",
       "       [3.30990031e-02, 2.34329235e-03, 1.40597541e-02, 1.15700059e-01,\n",
       "        1.46455772e-03, 1.85413003e-01, 1.72817800e-02, 2.75336839e-02,\n",
       "        3.55301708e-01, 2.92911544e-03, 3.51493843e-02, 2.09724665e-01],\n",
       "       [6.46967366e-02, 8.16485211e-02, 5.44323493e-03, 3.56143080e-02,\n",
       "        3.49922255e-02, 2.34059095e-02, 1.67029545e-01, 3.19595635e-02,\n",
       "        1.11508556e-01, 1.34914458e-01, 9.16796252e-02, 2.17107311e-01],\n",
       "       [8.33878368e-02, 9.15631093e-03, 2.28907773e-03, 4.28384580e-02,\n",
       "        1.79856122e-02, 5.91890141e-02, 3.96337479e-01, 1.96206663e-03,\n",
       "        2.50163496e-01, 1.02681488e-01, 2.02746894e-02, 1.37344673e-02],\n",
       "       [1.20525667e-02, 1.70623679e-02, 4.28011343e-02, 2.40361571e-01,\n",
       "        4.71937843e-03, 9.62027162e-03, 1.45719886e-01, 4.37087044e-02,\n",
       "        2.64684528e-01, 1.32142594e-02, 1.76831484e-01, 2.92238444e-02],\n",
       "       [2.05688223e-01, 1.22404899e-02, 4.80019196e-04, 1.77607108e-02,\n",
       "        3.72014870e-03, 2.18408741e-02, 3.97215895e-02, 2.40009598e-04,\n",
       "        6.37345493e-01, 5.40021621e-03, 9.24036931e-03, 4.63218540e-02],\n",
       "       [1.06144652e-01, 1.30147217e-02, 9.60102421e-04, 4.00042683e-02,\n",
       "        6.84873089e-02, 6.26200140e-02, 8.53424333e-03, 1.49349263e-03,\n",
       "        3.21740985e-01, 3.25154692e-01, 1.64284185e-02, 3.54171097e-02],\n",
       "       [1.68414358e-02, 2.55799182e-02, 1.03272954e-02, 1.64283440e-01,\n",
       "        5.62440418e-02, 2.85986648e-03, 2.06704795e-01, 1.82713702e-01,\n",
       "        6.05338402e-02, 5.46552278e-02, 1.44582137e-01, 7.46742934e-02]],\n",
       "      dtype=float32)"
      ]
     },
     "execution_count": 579,
     "metadata": {},
     "output_type": "execute_result"
    }
   ],
   "source": [
    "tags_matrix"
   ]
  },
  {
   "cell_type": "code",
   "execution_count": 580,
   "metadata": {},
   "outputs": [],
   "source": [
    "# convert the matrix to a df for better readability\n",
    "tags_df = pd.DataFrame(tags_matrix, columns = list(T), index=list(T))"
   ]
  },
  {
   "cell_type": "code",
   "execution_count": 581,
   "metadata": {},
   "outputs": [
    {
     "data": {
      "text/html": [
       "<div>\n",
       "<style scoped>\n",
       "    .dataframe tbody tr th:only-of-type {\n",
       "        vertical-align: middle;\n",
       "    }\n",
       "\n",
       "    .dataframe tbody tr th {\n",
       "        vertical-align: top;\n",
       "    }\n",
       "\n",
       "    .dataframe thead th {\n",
       "        text-align: right;\n",
       "    }\n",
       "</style>\n",
       "<table border=\"1\" class=\"dataframe\">\n",
       "  <thead>\n",
       "    <tr style=\"text-align: right;\">\n",
       "      <th></th>\n",
       "      <th>ADJ</th>\n",
       "      <th>ADV</th>\n",
       "      <th>CONJ</th>\n",
       "      <th>.</th>\n",
       "      <th>PRON</th>\n",
       "      <th>NUM</th>\n",
       "      <th>VERB</th>\n",
       "      <th>PRT</th>\n",
       "      <th>NOUN</th>\n",
       "      <th>DET</th>\n",
       "      <th>ADP</th>\n",
       "      <th>X</th>\n",
       "    </tr>\n",
       "  </thead>\n",
       "  <tbody>\n",
       "    <tr>\n",
       "      <th>ADJ</th>\n",
       "      <td>0.065117</td>\n",
       "      <td>0.004781</td>\n",
       "      <td>0.017145</td>\n",
       "      <td>0.064293</td>\n",
       "      <td>0.000659</td>\n",
       "      <td>0.021431</td>\n",
       "      <td>0.012199</td>\n",
       "      <td>0.010880</td>\n",
       "      <td>0.701945</td>\n",
       "      <td>0.005110</td>\n",
       "      <td>0.075833</td>\n",
       "      <td>0.020607</td>\n",
       "    </tr>\n",
       "    <tr>\n",
       "      <th>ADV</th>\n",
       "      <td>0.127546</td>\n",
       "      <td>0.079466</td>\n",
       "      <td>0.006344</td>\n",
       "      <td>0.135893</td>\n",
       "      <td>0.015359</td>\n",
       "      <td>0.032053</td>\n",
       "      <td>0.346912</td>\n",
       "      <td>0.014357</td>\n",
       "      <td>0.032053</td>\n",
       "      <td>0.068447</td>\n",
       "      <td>0.119199</td>\n",
       "      <td>0.022371</td>\n",
       "    </tr>\n",
       "    <tr>\n",
       "      <th>CONJ</th>\n",
       "      <td>0.116613</td>\n",
       "      <td>0.054604</td>\n",
       "      <td>0.000463</td>\n",
       "      <td>0.035632</td>\n",
       "      <td>0.058769</td>\n",
       "      <td>0.042573</td>\n",
       "      <td>0.160111</td>\n",
       "      <td>0.004165</td>\n",
       "      <td>0.351226</td>\n",
       "      <td>0.116613</td>\n",
       "      <td>0.051365</td>\n",
       "      <td>0.007867</td>\n",
       "    </tr>\n",
       "    <tr>\n",
       "      <th>.</th>\n",
       "      <td>0.044616</td>\n",
       "      <td>0.051962</td>\n",
       "      <td>0.057427</td>\n",
       "      <td>0.091919</td>\n",
       "      <td>0.064953</td>\n",
       "      <td>0.081616</td>\n",
       "      <td>0.088783</td>\n",
       "      <td>0.002419</td>\n",
       "      <td>0.222093</td>\n",
       "      <td>0.175685</td>\n",
       "      <td>0.091023</td>\n",
       "      <td>0.027414</td>\n",
       "    </tr>\n",
       "    <tr>\n",
       "      <th>PRON</th>\n",
       "      <td>0.074189</td>\n",
       "      <td>0.034389</td>\n",
       "      <td>0.005410</td>\n",
       "      <td>0.038640</td>\n",
       "      <td>0.007342</td>\n",
       "      <td>0.006955</td>\n",
       "      <td>0.488794</td>\n",
       "      <td>0.012365</td>\n",
       "      <td>0.209428</td>\n",
       "      <td>0.009274</td>\n",
       "      <td>0.022025</td>\n",
       "      <td>0.091190</td>\n",
       "    </tr>\n",
       "    <tr>\n",
       "      <th>NUM</th>\n",
       "      <td>0.033099</td>\n",
       "      <td>0.002343</td>\n",
       "      <td>0.014060</td>\n",
       "      <td>0.115700</td>\n",
       "      <td>0.001465</td>\n",
       "      <td>0.185413</td>\n",
       "      <td>0.017282</td>\n",
       "      <td>0.027534</td>\n",
       "      <td>0.355302</td>\n",
       "      <td>0.002929</td>\n",
       "      <td>0.035149</td>\n",
       "      <td>0.209725</td>\n",
       "    </tr>\n",
       "    <tr>\n",
       "      <th>VERB</th>\n",
       "      <td>0.064697</td>\n",
       "      <td>0.081649</td>\n",
       "      <td>0.005443</td>\n",
       "      <td>0.035614</td>\n",
       "      <td>0.034992</td>\n",
       "      <td>0.023406</td>\n",
       "      <td>0.167030</td>\n",
       "      <td>0.031960</td>\n",
       "      <td>0.111509</td>\n",
       "      <td>0.134914</td>\n",
       "      <td>0.091680</td>\n",
       "      <td>0.217107</td>\n",
       "    </tr>\n",
       "    <tr>\n",
       "      <th>PRT</th>\n",
       "      <td>0.083388</td>\n",
       "      <td>0.009156</td>\n",
       "      <td>0.002289</td>\n",
       "      <td>0.042838</td>\n",
       "      <td>0.017986</td>\n",
       "      <td>0.059189</td>\n",
       "      <td>0.396337</td>\n",
       "      <td>0.001962</td>\n",
       "      <td>0.250163</td>\n",
       "      <td>0.102681</td>\n",
       "      <td>0.020275</td>\n",
       "      <td>0.013734</td>\n",
       "    </tr>\n",
       "    <tr>\n",
       "      <th>NOUN</th>\n",
       "      <td>0.012053</td>\n",
       "      <td>0.017062</td>\n",
       "      <td>0.042801</td>\n",
       "      <td>0.240362</td>\n",
       "      <td>0.004719</td>\n",
       "      <td>0.009620</td>\n",
       "      <td>0.145720</td>\n",
       "      <td>0.043709</td>\n",
       "      <td>0.264685</td>\n",
       "      <td>0.013214</td>\n",
       "      <td>0.176831</td>\n",
       "      <td>0.029224</td>\n",
       "    </tr>\n",
       "    <tr>\n",
       "      <th>DET</th>\n",
       "      <td>0.205688</td>\n",
       "      <td>0.012240</td>\n",
       "      <td>0.000480</td>\n",
       "      <td>0.017761</td>\n",
       "      <td>0.003720</td>\n",
       "      <td>0.021841</td>\n",
       "      <td>0.039722</td>\n",
       "      <td>0.000240</td>\n",
       "      <td>0.637345</td>\n",
       "      <td>0.005400</td>\n",
       "      <td>0.009240</td>\n",
       "      <td>0.046322</td>\n",
       "    </tr>\n",
       "    <tr>\n",
       "      <th>ADP</th>\n",
       "      <td>0.106145</td>\n",
       "      <td>0.013015</td>\n",
       "      <td>0.000960</td>\n",
       "      <td>0.040004</td>\n",
       "      <td>0.068487</td>\n",
       "      <td>0.062620</td>\n",
       "      <td>0.008534</td>\n",
       "      <td>0.001493</td>\n",
       "      <td>0.321741</td>\n",
       "      <td>0.325155</td>\n",
       "      <td>0.016428</td>\n",
       "      <td>0.035417</td>\n",
       "    </tr>\n",
       "    <tr>\n",
       "      <th>X</th>\n",
       "      <td>0.016841</td>\n",
       "      <td>0.025580</td>\n",
       "      <td>0.010327</td>\n",
       "      <td>0.164283</td>\n",
       "      <td>0.056244</td>\n",
       "      <td>0.002860</td>\n",
       "      <td>0.206705</td>\n",
       "      <td>0.182714</td>\n",
       "      <td>0.060534</td>\n",
       "      <td>0.054655</td>\n",
       "      <td>0.144582</td>\n",
       "      <td>0.074674</td>\n",
       "    </tr>\n",
       "  </tbody>\n",
       "</table>\n",
       "</div>"
      ],
      "text/plain": [
       "           ADJ       ADV      CONJ         .      PRON       NUM      VERB  \\\n",
       "ADJ   0.065117  0.004781  0.017145  0.064293  0.000659  0.021431  0.012199   \n",
       "ADV   0.127546  0.079466  0.006344  0.135893  0.015359  0.032053  0.346912   \n",
       "CONJ  0.116613  0.054604  0.000463  0.035632  0.058769  0.042573  0.160111   \n",
       ".     0.044616  0.051962  0.057427  0.091919  0.064953  0.081616  0.088783   \n",
       "PRON  0.074189  0.034389  0.005410  0.038640  0.007342  0.006955  0.488794   \n",
       "NUM   0.033099  0.002343  0.014060  0.115700  0.001465  0.185413  0.017282   \n",
       "VERB  0.064697  0.081649  0.005443  0.035614  0.034992  0.023406  0.167030   \n",
       "PRT   0.083388  0.009156  0.002289  0.042838  0.017986  0.059189  0.396337   \n",
       "NOUN  0.012053  0.017062  0.042801  0.240362  0.004719  0.009620  0.145720   \n",
       "DET   0.205688  0.012240  0.000480  0.017761  0.003720  0.021841  0.039722   \n",
       "ADP   0.106145  0.013015  0.000960  0.040004  0.068487  0.062620  0.008534   \n",
       "X     0.016841  0.025580  0.010327  0.164283  0.056244  0.002860  0.206705   \n",
       "\n",
       "           PRT      NOUN       DET       ADP         X  \n",
       "ADJ   0.010880  0.701945  0.005110  0.075833  0.020607  \n",
       "ADV   0.014357  0.032053  0.068447  0.119199  0.022371  \n",
       "CONJ  0.004165  0.351226  0.116613  0.051365  0.007867  \n",
       ".     0.002419  0.222093  0.175685  0.091023  0.027414  \n",
       "PRON  0.012365  0.209428  0.009274  0.022025  0.091190  \n",
       "NUM   0.027534  0.355302  0.002929  0.035149  0.209725  \n",
       "VERB  0.031960  0.111509  0.134914  0.091680  0.217107  \n",
       "PRT   0.001962  0.250163  0.102681  0.020275  0.013734  \n",
       "NOUN  0.043709  0.264685  0.013214  0.176831  0.029224  \n",
       "DET   0.000240  0.637345  0.005400  0.009240  0.046322  \n",
       "ADP   0.001493  0.321741  0.325155  0.016428  0.035417  \n",
       "X     0.182714  0.060534  0.054655  0.144582  0.074674  "
      ]
     },
     "execution_count": 581,
     "metadata": {},
     "output_type": "execute_result"
    }
   ],
   "source": [
    "tags_df"
   ]
  },
  {
   "cell_type": "code",
   "execution_count": 582,
   "metadata": {},
   "outputs": [
    {
     "data": {
      "text/plain": [
       "ADJ     0.044616\n",
       "ADV     0.051962\n",
       "CONJ    0.057427\n",
       ".       0.091919\n",
       "PRON    0.064953\n",
       "NUM     0.081616\n",
       "VERB    0.088783\n",
       "PRT     0.002419\n",
       "NOUN    0.222093\n",
       "DET     0.175685\n",
       "ADP     0.091023\n",
       "X       0.027414\n",
       "Name: ., dtype: float32"
      ]
     },
     "execution_count": 582,
     "metadata": {},
     "output_type": "execute_result"
    }
   ],
   "source": [
    "tags_df.loc['.', :]"
   ]
  },
  {
   "cell_type": "code",
   "execution_count": 583,
   "metadata": {},
   "outputs": [
    {
     "data": {
      "image/png": "[encoded data removed]",
      "text/plain": [
       "<Figure size 1296x864 with 2 Axes>"
      ]
     },
     "metadata": {
      "needs_background": "light"
     },
     "output_type": "display_data"
    }
   ],
   "source": [
    "# heatmap of tags matrix\n",
    "# T(i, j) means P(tag j given tag i)\n",
    "plt.figure(figsize=(18, 12))\n",
    "sns.heatmap(tags_df)\n",
    "plt.show()\n"
   ]
  },
  {
   "cell_type": "code",
   "execution_count": 584,
   "metadata": {},
   "outputs": [
    {
     "data": {
      "image/png": "[encoded data removed]",
      "text/plain": [
       "<Figure size 1296x864 with 2 Axes>"
      ]
     },
     "metadata": {
      "needs_background": "light"
     },
     "output_type": "display_data"
    }
   ],
   "source": [
    "# frequent tags\n",
    "# filter the df to get P(t2, t1) > 0.5\n",
    "tags_frequent = tags_df[tags_df>0.5]\n",
    "plt.figure(figsize=(18, 12))\n",
    "sns.heatmap(tags_frequent)\n",
    "plt.show()"
   ]
  },
  {
   "cell_type": "markdown",
   "metadata": {},
   "source": [
    "### Vanilla Viterbi algorithm  (without dealing with unknown words)"
   ]
  },
  {
   "cell_type": "code",
   "execution_count": 585,
   "metadata": {},
   "outputs": [
    {
     "data": {
      "text/plain": [
       "95851"
      ]
     },
     "execution_count": 585,
     "metadata": {},
     "output_type": "execute_result"
    }
   ],
   "source": [
    "len(train_tagged_words)\n"
   ]
  },
  {
   "cell_type": "code",
   "execution_count": 586,
   "metadata": {},
   "outputs": [],
   "source": [
    "# Viterbi Heuristic\n",
    "def Viterbi(words, train_bag = train_tagged_words):\n",
    "    state = []\n",
    "    T = list(set([pair[1] for pair in train_bag]))\n",
    "    \n",
    "    for key, word in enumerate(words):\n",
    "        #initialise list of probability column for a given observation\n",
    "        p = [] \n",
    "        for tag in T:\n",
    "            if key == 0:\n",
    "                transition_p = tags_df.loc['.', tag]\n",
    "            else:\n",
    "                transition_p = tags_df.loc[state[-1], tag]\n",
    "                \n",
    "            # compute emission and state probabilities\n",
    "            emission_p = word_given_tag(words[key], tag)[0]/word_given_tag(words[key], tag)[1]\n",
    "            state_probability = emission_p * transition_p    \n",
    "            p.append(state_probability)\n",
    "            \n",
    "        pmax = max(p)\n",
    "        # getting state for which probability is maximum\n",
    "        state_max = T[p.index(pmax)] \n",
    "        state.append(state_max)\n",
    "    return list(zip(words, state))"
   ]
  },
  {
   "cell_type": "markdown",
   "metadata": {},
   "source": [
    "### Evaluating on Test Set"
   ]
  },
  {
   "cell_type": "code",
   "execution_count": 587,
   "metadata": {},
   "outputs": [
    {
     "data": {
      "text/plain": [
       "[[('Mr.', 'NOUN'),\n",
       "  ('Coleman', 'NOUN'),\n",
       "  ('said', 'VERB'),\n",
       "  ('this', 'DET'),\n",
       "  ('week', 'NOUN'),\n",
       "  ('that', 'ADP'),\n",
       "  ('he', 'PRON'),\n",
       "  ('would', 'VERB'),\n",
       "  ('devote', 'VERB'),\n",
       "  ('the', 'DET'),\n",
       "  ('remainder', 'NOUN'),\n",
       "  ('of', 'ADP'),\n",
       "  ('the', 'DET'),\n",
       "  ('political', 'ADJ'),\n",
       "  ('season', 'NOUN'),\n",
       "  ('to', 'PRT'),\n",
       "  ('positive', 'ADJ'),\n",
       "  ('campaigning', 'NOUN'),\n",
       "  (',', '.'),\n",
       "  ('but', 'CONJ'),\n",
       "  ('the', 'DET'),\n",
       "  ('truce', 'NOUN'),\n",
       "  ('lasted', 'VERB'),\n",
       "  ('only', 'ADV'),\n",
       "  ('hours', 'NOUN'),\n",
       "  ('.', '.')],\n",
       " [('Drug', 'NOUN'),\n",
       "  ('companies', 'NOUN'),\n",
       "  ('in', 'ADP'),\n",
       "  ('the', 'DET'),\n",
       "  ('key', 'ADJ'),\n",
       "  ('index', 'NOUN'),\n",
       "  ('also', 'ADV'),\n",
       "  ('notched', 'VERB'),\n",
       "  ('gains', 'NOUN'),\n",
       "  ('as', 'ADP'),\n",
       "  ('market-makers', 'NOUN'),\n",
       "  ('searched', 'VERB'),\n",
       "  ('for', 'ADP'),\n",
       "  ('stock', 'NOUN'),\n",
       "  ('in', 'ADP'),\n",
       "  ('anticipation', 'NOUN'),\n",
       "  ('of', 'ADP'),\n",
       "  ('demand', 'NOUN'),\n",
       "  ('due', 'ADJ'),\n",
       "  ('to', 'PRT'),\n",
       "  ('the', 'DET'),\n",
       "  ('sector', 'NOUN'),\n",
       "  (\"'s\", 'PRT'),\n",
       "  ('defensive', 'ADJ'),\n",
       "  ('qualities', 'NOUN'),\n",
       "  ('.', '.')],\n",
       " [('Corporations', 'NOUN'),\n",
       "  ('and', 'CONJ'),\n",
       "  ('museums', 'NOUN'),\n",
       "  ('are', 'VERB'),\n",
       "  ('among', 'ADP'),\n",
       "  ('the', 'DET'),\n",
       "  ('serious', 'ADJ'),\n",
       "  ('buyers', 'NOUN'),\n",
       "  (',', '.'),\n",
       "  ('*', 'X'),\n",
       "  ('giving', 'VERB'),\n",
       "  ('greater', 'ADJ'),\n",
       "  ('market', 'NOUN'),\n",
       "  ('stability', 'NOUN'),\n",
       "  (',', '.'),\n",
       "  ('says', 'VERB'),\n",
       "  ('0', 'X'),\n",
       "  ('*T*-1', 'X'),\n",
       "  ('Robert', 'NOUN'),\n",
       "  ('Persky', 'NOUN'),\n",
       "  ('of', 'ADP'),\n",
       "  ('the', 'DET'),\n",
       "  ('Photograph', 'NOUN'),\n",
       "  ('Collector', 'NOUN'),\n",
       "  ('.', '.')],\n",
       " [('In', 'ADP'),\n",
       "  ('any', 'DET'),\n",
       "  ('case', 'NOUN'),\n",
       "  (',', '.'),\n",
       "  ('opinion', 'NOUN'),\n",
       "  ('*ICH*-2', 'X'),\n",
       "  ('is', 'VERB'),\n",
       "  ('mixed', 'VERB'),\n",
       "  ('on', 'ADP'),\n",
       "  ('how', 'ADV'),\n",
       "  ('much', 'ADJ'),\n",
       "  ('of', 'ADP'),\n",
       "  ('a', 'DET'),\n",
       "  ('boost', 'NOUN'),\n",
       "  ('the', 'DET'),\n",
       "  ('overall', 'ADJ'),\n",
       "  ('stock', 'NOUN'),\n",
       "  ('market', 'NOUN'),\n",
       "  ('would', 'VERB'),\n",
       "  ('get', 'VERB'),\n",
       "  ('*T*-1', 'X'),\n",
       "  ('even', 'ADV'),\n",
       "  ('if', 'ADP'),\n",
       "  ('dividend', 'NOUN'),\n",
       "  ('growth', 'NOUN'),\n",
       "  ('continues', 'VERB'),\n",
       "  ('at', 'ADP'),\n",
       "  ('double-digit', 'ADJ'),\n",
       "  ('levels', 'NOUN'),\n",
       "  ('.', '.')],\n",
       " [('Mr.', 'NOUN'),\n",
       "  ('Martin', 'NOUN'),\n",
       "  ('has', 'VERB'),\n",
       "  ('increased', 'VERB'),\n",
       "  ('prices', 'NOUN'),\n",
       "  ('on', 'ADP'),\n",
       "  ('some', 'DET'),\n",
       "  ('wines', 'NOUN'),\n",
       "  ('-LRB-', '.'),\n",
       "  ('like', 'ADP'),\n",
       "  ('Grgich', 'NOUN'),\n",
       "  ('Hills', 'NOUN'),\n",
       "  ('Chardonnay', 'NOUN'),\n",
       "  (',', '.'),\n",
       "  ('now', 'ADV'),\n",
       "  ('$', '.'),\n",
       "  ('32', 'NUM'),\n",
       "  ('*U*', 'X'),\n",
       "  ('-RRB-', '.'),\n",
       "  ('just', 'ADV'),\n",
       "  ('*-1', 'X'),\n",
       "  ('to', 'PRT'),\n",
       "  ('slow', 'VERB'),\n",
       "  ('down', 'PRT'),\n",
       "  ('movement', 'NOUN'),\n",
       "  (',', '.'),\n",
       "  ('but', 'CONJ'),\n",
       "  ('he', 'PRON'),\n",
       "  ('is', 'VERB'),\n",
       "  ('beginning', 'VERB'),\n",
       "  ('*-2', 'X'),\n",
       "  ('to', 'PRT'),\n",
       "  ('see', 'VERB'),\n",
       "  ('some', 'DET'),\n",
       "  ('resistance', 'NOUN'),\n",
       "  ('to', 'PRT'),\n",
       "  ('high-priced', 'ADJ'),\n",
       "  ('red', 'ADJ'),\n",
       "  ('Burgundies', 'NOUN'),\n",
       "  ('and', 'CONJ'),\n",
       "  ('Cabernets', 'NOUN'),\n",
       "  ('and', 'CONJ'),\n",
       "  ('Chardonnays', 'NOUN'),\n",
       "  ('in', 'ADP'),\n",
       "  ('the', 'DET'),\n",
       "  ('$', '.'),\n",
       "  ('30', 'NUM'),\n",
       "  ('to', 'PRT'),\n",
       "  ('$', '.'),\n",
       "  ('40', 'NUM'),\n",
       "  ('*U*', 'X'),\n",
       "  ('range', 'NOUN'),\n",
       "  ('.', '.')],\n",
       " [('GMAC', 'NOUN'),\n",
       "  ('screened', 'VERB'),\n",
       "  ('the', 'DET'),\n",
       "  ('card-member', 'NOUN'),\n",
       "  ('list', 'NOUN'),\n",
       "  ('for', 'ADP'),\n",
       "  ('holders', 'NOUN'),\n",
       "  ('more', 'ADJ'),\n",
       "  ('than', 'ADP'),\n",
       "  ('30', 'NUM'),\n",
       "  ('years', 'NOUN'),\n",
       "  ('old', 'ADJ'),\n",
       "  ('with', 'ADP'),\n",
       "  ('household', 'NOUN'),\n",
       "  ('incomes', 'NOUN'),\n",
       "  ('over', 'ADP'),\n",
       "  ('$', '.'),\n",
       "  ('45,000', 'NUM'),\n",
       "  ('*U*', 'X'),\n",
       "  ('who', 'PRON'),\n",
       "  ('*T*-54', 'X'),\n",
       "  ('had', 'VERB'),\n",
       "  (\"n't\", 'ADV'),\n",
       "  ('``', '.'),\n",
       "  ('missed', 'VERB'),\n",
       "  ('any', 'DET'),\n",
       "  ('payments', 'NOUN'),\n",
       "  (',', '.'),\n",
       "  (\"''\", '.'),\n",
       "  ('the', 'DET'),\n",
       "  ('Buick', 'NOUN'),\n",
       "  ('spokeswoman', 'NOUN'),\n",
       "  ('says', 'VERB'),\n",
       "  ('0', 'X'),\n",
       "  ('*T*-1', 'X'),\n",
       "  ('.', '.')],\n",
       " [('Hadson', 'NOUN'),\n",
       "  ('Corp.', 'NOUN'),\n",
       "  ('said', 'VERB'),\n",
       "  ('0', 'X'),\n",
       "  ('it', 'PRON'),\n",
       "  ('expects', 'VERB'),\n",
       "  ('*-1', 'X'),\n",
       "  ('to', 'PRT'),\n",
       "  ('report', 'VERB'),\n",
       "  ('a', 'DET'),\n",
       "  ('third-quarter', 'NOUN'),\n",
       "  ('net', 'ADJ'),\n",
       "  ('loss', 'NOUN'),\n",
       "  ('of', 'ADP'),\n",
       "  ('$', '.'),\n",
       "  ('17', 'NUM'),\n",
       "  ('million', 'NUM'),\n",
       "  ('to', 'PRT'),\n",
       "  ('$', '.'),\n",
       "  ('19', 'NUM'),\n",
       "  ('million', 'NUM'),\n",
       "  ('*U*', 'X'),\n",
       "  ('because', 'ADP'),\n",
       "  ('of', 'ADP'),\n",
       "  ('special', 'ADJ'),\n",
       "  ('reserves', 'NOUN'),\n",
       "  ('and', 'CONJ'),\n",
       "  ('continued', 'VERB'),\n",
       "  ('low', 'ADJ'),\n",
       "  ('natural-gas', 'NOUN'),\n",
       "  ('prices', 'NOUN'),\n",
       "  ('.', '.')],\n",
       " [('A', 'DET'),\n",
       "  ('few', 'ADJ'),\n",
       "  (',', '.'),\n",
       "  ('such', 'ADJ'),\n",
       "  ('as', 'ADP'),\n",
       "  ('giant', 'ADJ'),\n",
       "  ('Merrill', 'NOUN'),\n",
       "  ('Lynch', 'NOUN'),\n",
       "  ('&', 'CONJ'),\n",
       "  ('Co.', 'NOUN'),\n",
       "  (',', '.'),\n",
       "  ('now', 'ADV'),\n",
       "  ('refuse', 'VERB'),\n",
       "  ('*-1', 'X'),\n",
       "  ('even', 'ADV'),\n",
       "  ('to', 'PRT'),\n",
       "  ('do', 'VERB'),\n",
       "  ('index', 'NOUN'),\n",
       "  ('arbitrage', 'NOUN'),\n",
       "  ('trades', 'NOUN'),\n",
       "  ('for', 'ADP'),\n",
       "  ('clients', 'NOUN'),\n",
       "  ('.', '.')],\n",
       " [('PaineWebber', 'NOUN'),\n",
       "  ('Inc.', 'NOUN'),\n",
       "  (',', '.'),\n",
       "  ('for', 'ADP'),\n",
       "  ('instance', 'NOUN'),\n",
       "  (',', '.'),\n",
       "  ('is', 'VERB'),\n",
       "  ('forecasting', 'VERB'),\n",
       "  ('growth', 'NOUN'),\n",
       "  ('in', 'ADP'),\n",
       "  ('S&P', 'NOUN'),\n",
       "  ('500', 'NUM'),\n",
       "  ('dividends', 'NOUN'),\n",
       "  ('of', 'ADP'),\n",
       "  ('just', 'ADV'),\n",
       "  ('under', 'ADP'),\n",
       "  ('5', 'NUM'),\n",
       "  ('%', 'NOUN'),\n",
       "  ('in', 'ADP'),\n",
       "  ('1990', 'NUM'),\n",
       "  (',', '.'),\n",
       "  ('down', 'ADP'),\n",
       "  ('from', 'ADP'),\n",
       "  ('an', 'DET'),\n",
       "  ('estimated', 'VERB'),\n",
       "  ('11', 'NUM'),\n",
       "  ('%', 'NOUN'),\n",
       "  ('this', 'DET'),\n",
       "  ('year', 'NOUN'),\n",
       "  ('.', '.')],\n",
       " [('``', '.'),\n",
       "  ('In', 'ADP'),\n",
       "  ('Moscow', 'NOUN'),\n",
       "  (',', '.'),\n",
       "  ('they', 'PRON'),\n",
       "  ('kept', 'VERB'),\n",
       "  ('*-5', 'X'),\n",
       "  ('asking', 'VERB'),\n",
       "  ('us', 'PRON'),\n",
       "  ('things', 'NOUN'),\n",
       "  ('like', 'ADP'),\n",
       "  (',', '.'),\n",
       "  ('`', '.'),\n",
       "  ('Why', 'ADV'),\n",
       "  ('do', 'VERB'),\n",
       "  ('you', 'PRON'),\n",
       "  ('make', 'VERB'),\n",
       "  ('15', 'NUM'),\n",
       "  ('different', 'ADJ'),\n",
       "  ('corkscrews', 'NOUN'),\n",
       "  (',', '.'),\n",
       "  ('when', 'ADV'),\n",
       "  ('all', 'DET'),\n",
       "  ('0', 'X'),\n",
       "  ('you', 'PRON'),\n",
       "  ('need', 'VERB'),\n",
       "  ('*T*-3', 'X'),\n",
       "  ('is', 'VERB'),\n",
       "  ('one', 'NUM'),\n",
       "  ('good', 'ADJ'),\n",
       "  ('one', 'NUM'),\n",
       "  ('*T*-4', 'X'),\n",
       "  ('*T*-2', 'X'),\n",
       "  ('?', '.'),\n",
       "  (\"'\", '.'),\n",
       "  (\"''\", '.'),\n",
       "  ('he', 'PRON'),\n",
       "  ('says', 'VERB'),\n",
       "  ('*T*-1', 'X'),\n",
       "  ('.', '.')]]"
      ]
     },
     "execution_count": 587,
     "metadata": {},
     "output_type": "execute_result"
    }
   ],
   "source": [
    "# Running on entire test dataset would take more than 3-4hrs. \n",
    "# Let's test our Viterbi algorithm on a few sample sentences of test dataset\n",
    "\n",
    "# Test the Algo on random sample test data\n",
    "# choose random 5 sents\n",
    "random.seed(1234)\n",
    "\n",
    "# choose 5 random sents\n",
    "rndom = [random.randint(1,len(test_set)) for x in range(10)]\n",
    "\n",
    "# list of sents\n",
    "test_run = [test_set[i] for i in rndom]\n",
    "\n",
    "# list of tagged words\n",
    "test_run_base = [tup for sent in test_run for tup in sent]\n",
    "\n",
    "# list of untagged words\n",
    "test_tagged_words = [tup[0] for sent in test_run for tup in sent]\n",
    "test_run"
   ]
  },
  {
   "cell_type": "code",
   "execution_count": 588,
   "metadata": {},
   "outputs": [],
   "source": [
    "# tagging the test sentences\n",
    "start = time.time()\n",
    "tagged_seq_Vanila = Viterbi(test_tagged_words)  # apply viterbi on sample test set\n",
    "end = time.time()\n",
    "difference = end-start"
   ]
  },
  {
   "cell_type": "code",
   "execution_count": 589,
   "metadata": {},
   "outputs": [
    {
     "name": "stdout",
     "output_type": "stream",
     "text": [
      "Time taken in seconds:  78.07979989051819\n",
      "[('Android', 'NOUN'), ('is', 'VERB'), ('a', 'DET'), ('mobile', 'ADJ'), ('operating', 'NOUN'), ('system', 'NOUN'), ('developed', 'VERB'), ('by', 'ADP'), ('Google', 'NOUN'), ('.', '.'), ('Android', 'NOUN'), ('has', 'VERB'), ('been', 'VERB'), ('the', 'DET'), ('best-selling', 'ADJ'), ('OS', 'NOUN'), ('worldwide', 'NOUN'), ('on', 'ADP'), ('smartphones', 'VERB'), ('since', 'ADP'), ('2011', 'NUM'), ('and', 'CONJ'), ('on', 'ADP'), ('tablets', 'NOUN'), ('since', 'ADP'), ('2013', 'NUM'), ('.', '.'), ('Google', 'NOUN'), ('and', 'CONJ'), ('Twitter', 'NOUN'), ('made', 'VERB'), ('a', 'DET'), ('deal', 'NOUN'), ('in', 'ADP'), ('2015', 'NUM'), ('that', 'ADP'), ('gave', 'VERB'), ('Google', 'NOUN'), ('access', 'NOUN'), ('to', 'PRT'), ('Twitter', 'NOUN'), (\"'s\", 'PRT'), ('firehose', 'NOUN'), ('.', '.'), ('Twitter', 'NOUN'), ('is', 'VERB'), ('an', 'DET'), ('online', 'NOUN'), ('news', 'NOUN'), ('and', 'CONJ'), ('social', 'ADJ'), ('networking', 'NOUN'), ('service', 'NOUN'), ('on', 'ADP'), ('which', 'DET'), ('users', 'NOUN'), ('post', 'NOUN'), ('and', 'CONJ'), ('interact', 'NOUN'), ('with', 'ADP'), ('messages', 'VERB'), ('known', 'VERB'), ('as', 'ADP'), ('tweets', 'NOUN'), ('.', '.'), ('Before', 'ADP'), ('entering', 'VERB'), ('politics', 'NOUN'), (',', '.'), ('Donald', 'NOUN'), ('Trump', 'NOUN'), ('was', 'VERB'), ('a', 'DET'), ('domineering', 'VERB'), ('businessman', 'NOUN'), ('and', 'CONJ'), ('a', 'DET'), ('television', 'NOUN'), ('personality', 'NOUN'), ('.', '.'), ('The', 'DET'), ('2018', 'NUM'), ('FIFA', 'NOUN'), ('World', 'NOUN'), ('Cup', 'NOUN'), ('is', 'VERB'), ('the', 'DET'), ('21st', 'NUM'), ('FIFA', 'NOUN'), ('World', 'NOUN'), ('Cup', 'NOUN'), (',', '.'), ('an', 'DET'), ('international', 'ADJ'), ('football', 'NOUN'), ('tournament', 'NOUN'), ('contested', 'VERB'), ('once', 'ADV'), ('every', 'DET'), ('four', 'NUM'), ('years', 'NOUN'), ('.', '.'), ('This', 'DET'), ('is', 'VERB'), ('the', 'DET'), ('first', 'ADJ'), ('World', 'NOUN'), ('Cup', 'NOUN'), ('to', 'PRT'), ('be', 'VERB'), ('held', 'VERB'), ('in', 'ADP'), ('Eastern', 'NOUN'), ('Europe', 'NOUN'), ('and', 'CONJ'), ('the', 'DET'), ('11th', 'ADJ'), ('time', 'NOUN'), ('that', 'ADP'), ('it', 'PRON'), ('has', 'VERB'), ('been', 'VERB'), ('held', 'VERB'), ('in', 'ADP'), ('Europe', 'NOUN'), ('.', '.'), ('Show', 'NOUN'), ('me', 'PRON'), ('the', 'DET'), ('cheapest', 'ADJ'), ('round', 'NOUN'), ('trips', 'NOUN'), ('from', 'ADP'), ('Dallas', 'NOUN'), ('to', 'PRT'), ('Atlanta', 'NOUN'), ('I', 'PRON'), ('would', 'VERB'), ('like', 'ADP'), ('to', 'PRT'), ('see', 'VERB'), ('flights', 'NOUN'), ('from', 'ADP'), ('Denver', 'NOUN'), ('to', 'PRT'), ('Philadelphia', 'NOUN'), ('.', '.'), ('Show', 'NOUN'), ('me', 'PRON'), ('the', 'DET'), ('price', 'NOUN'), ('of', 'ADP'), ('the', 'DET'), ('flights', 'NOUN'), ('leaving', 'VERB'), ('Atlanta', 'NOUN'), ('at', 'ADP'), ('about', 'ADP'), ('3', 'NUM'), ('in', 'ADP'), ('the', 'DET'), ('afternoon', 'NOUN'), ('and', 'CONJ'), ('arriving', 'VERB'), ('in', 'ADP'), ('San', 'NOUN'), ('Francisco', 'NOUN'), ('.', '.'), ('NASA', 'NOUN'), ('invited', 'VERB'), ('social', 'ADJ'), ('media', 'NOUN'), ('users', 'NOUN'), ('to', 'PRT'), ('experience', 'NOUN'), ('the', 'DET'), ('launch', 'NOUN'), ('of', 'ADP'), ('ICESAT-2', 'NOUN'), ('Satellite', 'NOUN'), ('.', '.')]\n"
     ]
    }
   ],
   "source": [
    "print(\"Time taken in seconds: \", difference)\n",
    "print(tagged_seq)"
   ]
  },
  {
   "cell_type": "code",
   "execution_count": 590,
   "metadata": {},
   "outputs": [
    {
     "data": {
      "text/plain": [
       "0.9127725856697819"
      ]
     },
     "execution_count": 590,
     "metadata": {},
     "output_type": "execute_result"
    }
   ],
   "source": [
    "# accuracy\n",
    "check = [i for i, j in zip(tagged_seq_Vanila, test_run_base) if i == j] \n",
    "vanila_viterbi_accuracy = len(check)/len(tagged_seq_Vanila)\n",
    "vanila_viterbi_accuracy"
   ]
  },
  {
   "cell_type": "code",
   "execution_count": 591,
   "metadata": {},
   "outputs": [],
   "source": [
    "incorrect_tagged_cases = [[test_run_base[i-1],j] for i, j in enumerate(zip(tagged_seq_Vanila, test_run_base)) if j[0]!=j[1]]"
   ]
  },
  {
   "cell_type": "code",
   "execution_count": 592,
   "metadata": {},
   "outputs": [
    {
     "data": {
      "text/plain": [
       "[[('truce', 'NOUN'), (('lasted', 'ADJ'), ('lasted', 'VERB'))],\n",
       " [('lasted', 'VERB'), (('only', 'ADJ'), ('only', 'ADV'))],\n",
       " [('also', 'ADV'), (('notched', 'ADJ'), ('notched', 'VERB'))],\n",
       " [('market-makers', 'NOUN'), (('searched', 'ADJ'), ('searched', 'VERB'))],\n",
       " [('defensive', 'ADJ'), (('qualities', 'ADJ'), ('qualities', 'NOUN'))],\n",
       " [('and', 'CONJ'), (('museums', 'ADJ'), ('museums', 'NOUN'))],\n",
       " [('Robert', 'NOUN'), (('Persky', 'ADJ'), ('Persky', 'NOUN'))],\n",
       " [('the', 'DET'), (('Photograph', 'ADJ'), ('Photograph', 'NOUN'))],\n",
       " [('Photograph', 'NOUN'), (('Collector', 'ADJ'), ('Collector', 'NOUN'))],\n",
       " [('how', 'ADV'), (('much', 'ADV'), ('much', 'ADJ'))],\n",
       " [('a', 'DET'), (('boost', 'VERB'), ('boost', 'NOUN'))],\n",
       " [('like', 'ADP'), (('Grgich', 'ADJ'), ('Grgich', 'NOUN'))],\n",
       " [('Hills', 'NOUN'), (('Chardonnay', 'ADJ'), ('Chardonnay', 'NOUN'))],\n",
       " [('slow', 'VERB'), (('down', 'ADV'), ('down', 'PRT'))],\n",
       " [('high-priced', 'ADJ'), (('red', 'NOUN'), ('red', 'ADJ'))],\n",
       " [('and', 'CONJ'), (('Chardonnays', 'ADJ'), ('Chardonnays', 'NOUN'))],\n",
       " [('*U*', 'X'), (('range', 'VERB'), ('range', 'NOUN'))],\n",
       " [('GMAC', 'NOUN'), (('screened', 'ADJ'), ('screened', 'VERB'))],\n",
       " [('the', 'DET'), (('card-member', 'ADJ'), ('card-member', 'NOUN'))],\n",
       " [('holders', 'NOUN'), (('more', 'ADV'), ('more', 'ADJ'))],\n",
       " [('household', 'NOUN'), (('incomes', 'ADJ'), ('incomes', 'NOUN'))],\n",
       " [('``', '.'), (('missed', 'ADJ'), ('missed', 'VERB'))],\n",
       " [('to', 'PRT'), (('report', 'NOUN'), ('report', 'VERB'))],\n",
       " [('third-quarter', 'NOUN'), (('net', 'NOUN'), ('net', 'ADJ'))],\n",
       " [('low', 'ADJ'), (('natural-gas', 'ADJ'), ('natural-gas', 'NOUN'))],\n",
       " [('is', 'VERB'), (('forecasting', 'ADJ'), ('forecasting', 'VERB'))],\n",
       " [(',', '.'), (('down', 'ADV'), ('down', 'ADP'))],\n",
       " [('different', 'ADJ'), (('corkscrews', 'ADJ'), ('corkscrews', 'NOUN'))]]"
      ]
     },
     "execution_count": 592,
     "metadata": {},
     "output_type": "execute_result"
    }
   ],
   "source": [
    "# check the words tagged incorrectly\n",
    "incorrect_tagged_cases"
   ]
  },
  {
   "cell_type": "code",
   "execution_count": 593,
   "metadata": {},
   "outputs": [
    {
     "name": "stdout",
     "output_type": "stream",
     "text": [
      "[('Android', 'ADJ'), ('is', 'VERB'), ('a', 'DET'), ('mobile', 'ADJ'), ('operating', 'NOUN'), ('system', 'NOUN'), ('developed', 'VERB'), ('by', 'ADP'), ('Google', 'ADJ'), ('.', '.'), ('Android', 'ADJ'), ('has', 'VERB'), ('been', 'VERB'), ('the', 'DET'), ('best-selling', 'ADJ'), ('OS', 'ADJ'), ('worldwide', 'ADJ'), ('on', 'ADP'), ('smartphones', 'ADJ'), ('since', 'ADP'), ('2011', 'ADJ'), ('and', 'CONJ'), ('on', 'ADP'), ('tablets', 'NOUN'), ('since', 'ADP'), ('2013', 'ADJ'), ('.', '.'), ('Google', 'ADJ'), ('and', 'CONJ'), ('Twitter', 'ADJ'), ('made', 'VERB'), ('a', 'DET'), ('deal', 'NOUN'), ('in', 'ADP'), ('2015', 'ADJ'), ('that', 'ADP'), ('gave', 'VERB'), ('Google', 'ADJ'), ('access', 'NOUN'), ('to', 'PRT'), ('Twitter', 'ADJ'), (\"'s\", 'PRT'), ('firehose', 'ADJ'), ('.', '.'), ('Twitter', 'ADJ'), ('is', 'VERB'), ('an', 'DET'), ('online', 'ADJ'), ('news', 'NOUN'), ('and', 'CONJ'), ('social', 'ADJ'), ('networking', 'NOUN'), ('service', 'NOUN'), ('on', 'ADP'), ('which', 'DET'), ('users', 'NOUN'), ('post', 'NOUN'), ('and', 'CONJ'), ('interact', 'ADJ'), ('with', 'ADP'), ('messages', 'ADJ'), ('known', 'ADJ'), ('as', 'ADP'), ('tweets', 'ADJ'), ('.', '.'), ('Before', 'ADP'), ('entering', 'VERB'), ('politics', 'NOUN'), (',', '.'), ('Donald', 'NOUN'), ('Trump', 'NOUN'), ('was', 'VERB'), ('a', 'DET'), ('domineering', 'ADJ'), ('businessman', 'NOUN'), ('and', 'CONJ'), ('a', 'DET'), ('television', 'NOUN'), ('personality', 'ADJ'), ('.', '.'), ('The', 'DET'), ('2018', 'ADJ'), ('FIFA', 'ADJ'), ('World', 'NOUN'), ('Cup', 'ADJ'), ('is', 'VERB'), ('the', 'DET'), ('21st', 'ADJ'), ('FIFA', 'ADJ'), ('World', 'NOUN'), ('Cup', 'ADJ'), (',', '.'), ('an', 'DET'), ('international', 'ADJ'), ('football', 'NOUN'), ('tournament', 'ADJ'), ('contested', 'ADJ'), ('once', 'ADV'), ('every', 'DET'), ('four', 'NUM'), ('years', 'NOUN'), ('.', '.'), ('This', 'DET'), ('is', 'VERB'), ('the', 'DET'), ('first', 'ADJ'), ('World', 'NOUN'), ('Cup', 'ADJ'), ('to', 'PRT'), ('be', 'VERB'), ('held', 'VERB'), ('in', 'ADP'), ('Eastern', 'NOUN'), ('Europe', 'NOUN'), ('and', 'CONJ'), ('the', 'DET'), ('11th', 'ADJ'), ('time', 'NOUN'), ('that', 'ADP'), ('it', 'PRON'), ('has', 'VERB'), ('been', 'VERB'), ('held', 'VERB'), ('in', 'ADP'), ('Europe', 'NOUN'), ('.', '.'), ('Show', 'NOUN'), ('me', 'PRON'), ('the', 'DET'), ('cheapest', 'ADJ'), ('round', 'NOUN'), ('trips', 'ADJ'), ('from', 'ADP'), ('Dallas', 'NOUN'), ('to', 'PRT'), ('Atlanta', 'NOUN'), ('I', 'PRON'), ('would', 'VERB'), ('like', 'ADP'), ('to', 'PRT'), ('see', 'VERB'), ('flights', 'NOUN'), ('from', 'ADP'), ('Denver', 'NOUN'), ('to', 'PRT'), ('Philadelphia', 'NOUN'), ('.', '.'), ('Show', 'NOUN'), ('me', 'PRON'), ('the', 'DET'), ('price', 'NOUN'), ('of', 'ADP'), ('the', 'DET'), ('flights', 'NOUN'), ('leaving', 'VERB'), ('Atlanta', 'NOUN'), ('at', 'ADP'), ('about', 'ADP'), ('3', 'NUM'), ('in', 'ADP'), ('the', 'DET'), ('afternoon', 'NOUN'), ('and', 'CONJ'), ('arriving', 'ADJ'), ('in', 'ADP'), ('San', 'NOUN'), ('Francisco', 'NOUN'), ('.', '.'), ('NASA', 'ADJ'), ('invited', 'ADJ'), ('social', 'ADJ'), ('media', 'NOUN'), ('users', 'NOUN'), ('to', 'PRT'), ('experience', 'NOUN'), ('the', 'DET'), ('launch', 'NOUN'), ('of', 'ADP'), ('ICESAT-2', 'ADJ'), ('Satellite', 'ADJ'), ('.', '.')]\n",
      "43.487956047058105\n"
     ]
    }
   ],
   "source": [
    "# lets test the given data set. \n",
    "sentence_test = open('Test_sentences.txt',mode='r').read()\n",
    "\n",
    "# First convert the sentence into tokenized words\n",
    "words = word_tokenize(sentence_test)\n",
    "\n",
    "# Apply the viterbi algo.\n",
    "start = time.time()\n",
    "tagged_seq_Vanila = Viterbi(words)\n",
    "end = time.time()\n",
    "difference = end-start\n",
    "\n",
    "# print the tagged words\n",
    "print(tagged_seq_Vanila)\n",
    "print(difference)\n",
    "vannila_test_tagged_seq = tagged_seq_Vanila"
   ]
  },
  {
   "cell_type": "markdown",
   "metadata": {},
   "source": [
    "### Observation :\n",
    "-  We can observe that unknown words are tagged wrongly as below\n",
    "- ('Android', 'ADJ')\n",
    "- ('Google', 'ADJ')\n",
    "- ('2015', 'ADJ')\n",
    "- ('Twitter', 'ADJ')\n",
    "- ('2018', 'ADJ')\n",
    "- ('FIFA', 'ADJ')\n",
    "- ('ICESAT-2', 'ADJ')\n",
    "- ('domineering', 'ADJ')"
   ]
  },
  {
   "cell_type": "markdown",
   "metadata": {},
   "source": [
    "## 3. Solve the problem of unknown words"
   ]
  },
  {
   "cell_type": "markdown",
   "metadata": {},
   "source": [
    "### Approach 1 : Rule Based Tagging with Viterbi"
   ]
  },
  {
   "cell_type": "code",
   "execution_count": 594,
   "metadata": {},
   "outputs": [],
   "source": [
    "# Write a new function to define the pattern for modification\n",
    "\n",
    "pattern = [\n",
    "        (r'.*Twitter$', 'NOUN'), # Special words should be tagged as high frequency tag, which is Noun \n",
    "        (r'.*Android$', 'NOUN'),  # Special words should be tagged as high frequency tag, which is Noun\n",
    "        (r'.*Google$', 'NOUN'),   # Special words should be tagged as high frequency tag, which is Noun\n",
    "        (r'[-+]?\\d*\\.\\d+|\\d+', 'NUM'), # Number with floating values\n",
    "        (r'.*ing$', 'VERB'), # gerunds or continuous tense\n",
    "        (r'.*es$', 'VERB'), \n",
    "        (r'.*ed$', 'VERB'),  # past perfect tense\n",
    "        (r'[A-Z ]+', 'NOUN'),  # all caps eg. FIFA, NASA, etc\n",
    "        (r'.*', 'NOUN'), # default value as NOUN\n",
    "]\n",
    "\n",
    "def rule_based_tagging(word, pattern):\n",
    "    regexp_tagger = nltk.RegexpTagger(pattern)\n",
    "    kv = regexp_tagger.tag(nltk.word_tokenize(word))\n",
    "    for v in kv:\n",
    "        print(word)\n",
    "        print(v[1])\n",
    "        return v[1]"
   ]
  },
  {
   "cell_type": "code",
   "execution_count": 595,
   "metadata": {},
   "outputs": [
    {
     "name": "stdout",
     "output_type": "stream",
     "text": [
      "lasted\n",
      "VERB\n",
      "notched\n",
      "VERB\n",
      "searched\n",
      "VERB\n",
      "qualities\n",
      "VERB\n",
      "museums\n",
      "NOUN\n",
      "Persky\n",
      "NOUN\n",
      "Photograph\n",
      "NOUN\n",
      "Collector\n",
      "NOUN\n",
      "Grgich\n",
      "NOUN\n",
      "Chardonnay\n",
      "NOUN\n",
      "Chardonnays\n",
      "NOUN\n",
      "screened\n",
      "VERB\n",
      "card-member\n",
      "NOUN\n",
      "incomes\n",
      "VERB\n",
      "missed\n",
      "VERB\n",
      "natural-gas\n",
      "NOUN\n",
      "forecasting\n",
      "VERB\n",
      "corkscrews\n",
      "NOUN\n",
      "Time taken in seconds:  77.29757595062256\n",
      "[('Mr.', 'NOUN'), ('Coleman', 'NOUN'), ('said', 'VERB'), ('this', 'DET'), ('week', 'NOUN'), ('that', 'ADP'), ('he', 'PRON'), ('would', 'VERB'), ('devote', 'VERB'), ('the', 'DET'), ('remainder', 'NOUN'), ('of', 'ADP'), ('the', 'DET'), ('political', 'ADJ'), ('season', 'NOUN'), ('to', 'PRT'), ('positive', 'ADJ'), ('campaigning', 'NOUN'), (',', '.'), ('but', 'CONJ'), ('the', 'DET'), ('truce', 'NOUN'), ('lasted', 'VERB'), ('only', 'ADV'), ('hours', 'NOUN'), ('.', '.'), ('Drug', 'NOUN'), ('companies', 'NOUN'), ('in', 'ADP'), ('the', 'DET'), ('key', 'ADJ'), ('index', 'NOUN'), ('also', 'ADV'), ('notched', 'VERB'), ('gains', 'NOUN'), ('as', 'ADP'), ('market-makers', 'NOUN'), ('searched', 'VERB'), ('for', 'ADP'), ('stock', 'NOUN'), ('in', 'ADP'), ('anticipation', 'NOUN'), ('of', 'ADP'), ('demand', 'NOUN'), ('due', 'ADJ'), ('to', 'PRT'), ('the', 'DET'), ('sector', 'NOUN'), (\"'s\", 'PRT'), ('defensive', 'ADJ'), ('qualities', 'VERB'), ('.', '.'), ('Corporations', 'NOUN'), ('and', 'CONJ'), ('museums', 'NOUN'), ('are', 'VERB'), ('among', 'ADP'), ('the', 'DET'), ('serious', 'ADJ'), ('buyers', 'NOUN'), (',', '.'), ('*', 'X'), ('giving', 'VERB'), ('greater', 'ADJ'), ('market', 'NOUN'), ('stability', 'NOUN'), (',', '.'), ('says', 'VERB'), ('0', 'X'), ('*T*-1', 'X'), ('Robert', 'NOUN'), ('Persky', 'NOUN'), ('of', 'ADP'), ('the', 'DET'), ('Photograph', 'NOUN'), ('Collector', 'NOUN'), ('.', '.'), ('In', 'ADP'), ('any', 'DET'), ('case', 'NOUN'), (',', '.'), ('opinion', 'NOUN'), ('*ICH*-2', 'X'), ('is', 'VERB'), ('mixed', 'VERB'), ('on', 'ADP'), ('how', 'ADV'), ('much', 'ADV'), ('of', 'ADP'), ('a', 'DET'), ('boost', 'VERB'), ('the', 'DET'), ('overall', 'ADJ'), ('stock', 'NOUN'), ('market', 'NOUN'), ('would', 'VERB'), ('get', 'VERB'), ('*T*-1', 'X'), ('even', 'ADV'), ('if', 'ADP'), ('dividend', 'NOUN'), ('growth', 'NOUN'), ('continues', 'VERB'), ('at', 'ADP'), ('double-digit', 'ADJ'), ('levels', 'NOUN'), ('.', '.'), ('Mr.', 'NOUN'), ('Martin', 'NOUN'), ('has', 'VERB'), ('increased', 'VERB'), ('prices', 'NOUN'), ('on', 'ADP'), ('some', 'DET'), ('wines', 'NOUN'), ('-LRB-', '.'), ('like', 'ADP'), ('Grgich', 'NOUN'), ('Hills', 'NOUN'), ('Chardonnay', 'NOUN'), (',', '.'), ('now', 'ADV'), ('$', '.'), ('32', 'NUM'), ('*U*', 'X'), ('-RRB-', '.'), ('just', 'ADV'), ('*-1', 'X'), ('to', 'PRT'), ('slow', 'VERB'), ('down', 'ADV'), ('movement', 'NOUN'), (',', '.'), ('but', 'CONJ'), ('he', 'PRON'), ('is', 'VERB'), ('beginning', 'VERB'), ('*-2', 'X'), ('to', 'PRT'), ('see', 'VERB'), ('some', 'DET'), ('resistance', 'NOUN'), ('to', 'PRT'), ('high-priced', 'ADJ'), ('red', 'NOUN'), ('Burgundies', 'NOUN'), ('and', 'CONJ'), ('Cabernets', 'NOUN'), ('and', 'CONJ'), ('Chardonnays', 'NOUN'), ('in', 'ADP'), ('the', 'DET'), ('$', '.'), ('30', 'NUM'), ('to', 'PRT'), ('$', '.'), ('40', 'NUM'), ('*U*', 'X'), ('range', 'VERB'), ('.', '.'), ('GMAC', 'NOUN'), ('screened', 'VERB'), ('the', 'DET'), ('card-member', 'NOUN'), ('list', 'NOUN'), ('for', 'ADP'), ('holders', 'NOUN'), ('more', 'ADV'), ('than', 'ADP'), ('30', 'NUM'), ('years', 'NOUN'), ('old', 'ADJ'), ('with', 'ADP'), ('household', 'NOUN'), ('incomes', 'VERB'), ('over', 'ADP'), ('$', '.'), ('45,000', 'NUM'), ('*U*', 'X'), ('who', 'PRON'), ('*T*-54', 'X'), ('had', 'VERB'), (\"n't\", 'ADV'), ('``', '.'), ('missed', 'VERB'), ('any', 'DET'), ('payments', 'NOUN'), (',', '.'), (\"''\", '.'), ('the', 'DET'), ('Buick', 'NOUN'), ('spokeswoman', 'NOUN'), ('says', 'VERB'), ('0', 'X'), ('*T*-1', 'X'), ('.', '.'), ('Hadson', 'NOUN'), ('Corp.', 'NOUN'), ('said', 'VERB'), ('0', 'X'), ('it', 'PRON'), ('expects', 'VERB'), ('*-1', 'X'), ('to', 'PRT'), ('report', 'NOUN'), ('a', 'DET'), ('third-quarter', 'NOUN'), ('net', 'NOUN'), ('loss', 'NOUN'), ('of', 'ADP'), ('$', '.'), ('17', 'NUM'), ('million', 'NUM'), ('to', 'PRT'), ('$', '.'), ('19', 'NUM'), ('million', 'NUM'), ('*U*', 'X'), ('because', 'ADP'), ('of', 'ADP'), ('special', 'ADJ'), ('reserves', 'NOUN'), ('and', 'CONJ'), ('continued', 'VERB'), ('low', 'ADJ'), ('natural-gas', 'NOUN'), ('prices', 'NOUN'), ('.', '.'), ('A', 'DET'), ('few', 'ADJ'), (',', '.'), ('such', 'ADJ'), ('as', 'ADP'), ('giant', 'ADJ'), ('Merrill', 'NOUN'), ('Lynch', 'NOUN'), ('&', 'CONJ'), ('Co.', 'NOUN'), (',', '.'), ('now', 'ADV'), ('refuse', 'VERB'), ('*-1', 'X'), ('even', 'ADV'), ('to', 'PRT'), ('do', 'VERB'), ('index', 'NOUN'), ('arbitrage', 'NOUN'), ('trades', 'NOUN'), ('for', 'ADP'), ('clients', 'NOUN'), ('.', '.'), ('PaineWebber', 'NOUN'), ('Inc.', 'NOUN'), (',', '.'), ('for', 'ADP'), ('instance', 'NOUN'), (',', '.'), ('is', 'VERB'), ('forecasting', 'VERB'), ('growth', 'NOUN'), ('in', 'ADP'), ('S&P', 'NOUN'), ('500', 'NUM'), ('dividends', 'NOUN'), ('of', 'ADP'), ('just', 'ADV'), ('under', 'ADP'), ('5', 'NUM'), ('%', 'NOUN'), ('in', 'ADP'), ('1990', 'NUM'), (',', '.'), ('down', 'ADV'), ('from', 'ADP'), ('an', 'DET'), ('estimated', 'VERB'), ('11', 'NUM'), ('%', 'NOUN'), ('this', 'DET'), ('year', 'NOUN'), ('.', '.'), ('``', '.'), ('In', 'ADP'), ('Moscow', 'NOUN'), (',', '.'), ('they', 'PRON'), ('kept', 'VERB'), ('*-5', 'X'), ('asking', 'VERB'), ('us', 'PRON'), ('things', 'NOUN'), ('like', 'ADP'), (',', '.'), ('`', '.'), ('Why', 'ADV'), ('do', 'VERB'), ('you', 'PRON'), ('make', 'VERB'), ('15', 'NUM'), ('different', 'ADJ'), ('corkscrews', 'NOUN'), (',', '.'), ('when', 'ADV'), ('all', 'DET'), ('0', 'X'), ('you', 'PRON'), ('need', 'VERB'), ('*T*-3', 'X'), ('is', 'VERB'), ('one', 'NUM'), ('good', 'ADJ'), ('one', 'NUM'), ('*T*-4', 'X'), ('*T*-2', 'X'), ('?', '.'), (\"'\", '.'), (\"''\", '.'), ('he', 'PRON'), ('says', 'VERB'), ('*T*-1', 'X'), ('.', '.')]\n"
     ]
    }
   ],
   "source": [
    "# Viterbi Heuristic\n",
    "def modified_Viterbi_rule_based(words, train_bag = train_tagged_words):\n",
    "    state = []\n",
    "    T = list(set([pair[1] for pair in train_bag]))\n",
    "    \n",
    "    for key, word in enumerate(words):\n",
    "        #initialise list of probability column for a given observation\n",
    "        p = [] \n",
    "        for tag in T:\n",
    "            if key == 0:\n",
    "                transition_p = tags_df.loc['.', tag]\n",
    "            else:\n",
    "                transition_p = tags_df.loc[state[-1], tag]\n",
    "                \n",
    "            # compute emission and state probabilities\n",
    "            emission_p = word_given_tag(words[key], tag)[0]/word_given_tag(words[key], tag)[1]                \n",
    "            state_probability = emission_p * transition_p    \n",
    "            p.append(state_probability)\n",
    "        pmax = max(p)\n",
    "        if pmax == 0.0:       \n",
    "            state_max = rule_based_tagging(word, pattern)  # call the rule based tagging function to apply modification\n",
    "            if state_max is None :\n",
    "                state_max = \".\"\n",
    "        else :\n",
    "            state_max = T[p.index(pmax)] \n",
    "        state.append(state_max)\n",
    "    return list(zip(words, state))\n",
    "\n",
    "\n",
    "# Test the modified Algo on random sample test data\n",
    "# choose random 5 sents\n",
    "random.seed(1234)\n",
    "\n",
    "# choose random 5 sents\n",
    "rndom = [random.randint(1,len(test_set)) for x in range(10)]\n",
    "\n",
    "# list of sents\n",
    "test_run = [test_set[i] for i in rndom]\n",
    "\n",
    "# list of tagged words\n",
    "test_run_base = [tup for sent in test_run for tup in sent]\n",
    "\n",
    "# list of untagged words\n",
    "test_tagged_words = [tup[0] for sent in test_run for tup in sent]\n",
    "test_run\n",
    "\n",
    "# tagging the test sentences\n",
    "# test the data using the modified viterbi Algorithm\n",
    "start = time.time()\n",
    "tagged_seq_rule_based_tagger = modified_Viterbi_rule_based(test_tagged_words) \n",
    "end = time.time()\n",
    "difference = end-start\n",
    "\n",
    "print(\"Time taken in seconds: \", difference)\n",
    "print(tagged_seq_rule_based_tagger)"
   ]
  },
  {
   "cell_type": "code",
   "execution_count": 596,
   "metadata": {},
   "outputs": [
    {
     "name": "stdout",
     "output_type": "stream",
     "text": [
      "0.9657320872274143\n"
     ]
    }
   ],
   "source": [
    "# accuracy\n",
    "check = [i for i, j in zip(tagged_seq_rule_based_tagger, test_run_base) if i == j] \n",
    "rulebased_viterbi_accuracy = len(check)/len(tagged_seq_rule_based_tagger)\n",
    "print(rulebased_viterbi_accuracy)"
   ]
  },
  {
   "cell_type": "code",
   "execution_count": 597,
   "metadata": {
    "scrolled": true
   },
   "outputs": [
    {
     "data": {
      "text/plain": [
       "[[('defensive', 'ADJ'), (('qualities', 'VERB'), ('qualities', 'NOUN'))],\n",
       " [('how', 'ADV'), (('much', 'ADV'), ('much', 'ADJ'))],\n",
       " [('a', 'DET'), (('boost', 'VERB'), ('boost', 'NOUN'))],\n",
       " [('slow', 'VERB'), (('down', 'ADV'), ('down', 'PRT'))],\n",
       " [('high-priced', 'ADJ'), (('red', 'NOUN'), ('red', 'ADJ'))],\n",
       " [('*U*', 'X'), (('range', 'VERB'), ('range', 'NOUN'))],\n",
       " [('holders', 'NOUN'), (('more', 'ADV'), ('more', 'ADJ'))],\n",
       " [('household', 'NOUN'), (('incomes', 'VERB'), ('incomes', 'NOUN'))],\n",
       " [('to', 'PRT'), (('report', 'NOUN'), ('report', 'VERB'))],\n",
       " [('third-quarter', 'NOUN'), (('net', 'NOUN'), ('net', 'ADJ'))],\n",
       " [(',', '.'), (('down', 'ADV'), ('down', 'ADP'))]]"
      ]
     },
     "execution_count": 597,
     "metadata": {},
     "output_type": "execute_result"
    }
   ],
   "source": [
    "# check the words tagged incorrectly\n",
    "incorrect_tagged_cases = [[test_run_base[i-1],j] for i, j in enumerate(zip(tagged_seq_rule_based_tagger, test_run_base)) if j[0]!=j[1]]\n",
    "incorrect_tagged_cases"
   ]
  },
  {
   "cell_type": "markdown",
   "metadata": {},
   "source": [
    "### Observation: rule_based_tagger\n",
    "### we can see that below words has been tagged correctly which were wrongly tagged by vanila Algorithm on the test set.\n",
    "1. choice  - NOUN\n",
    "2. 126.1 - NUM\n",
    "3. discretion - NOUN\n",
    "4. select - NOUN\n"
   ]
  },
  {
   "cell_type": "code",
   "execution_count": 598,
   "metadata": {},
   "outputs": [
    {
     "name": "stdout",
     "output_type": "stream",
     "text": [
      "Android\n",
      "NOUN\n",
      "Google\n",
      "NOUN\n",
      "Android\n",
      "NOUN\n",
      "OS\n",
      "NOUN\n",
      "worldwide\n",
      "NOUN\n",
      "smartphones\n",
      "VERB\n",
      "2011\n",
      "NUM\n",
      "2013\n",
      "NUM\n",
      "Google\n",
      "NOUN\n",
      "Twitter\n",
      "NOUN\n",
      "2015\n",
      "NUM\n",
      "Google\n",
      "NOUN\n",
      "Twitter\n",
      "NOUN\n",
      "firehose\n",
      "NOUN\n",
      "Twitter\n",
      "NOUN\n",
      "online\n",
      "NOUN\n",
      "interact\n",
      "NOUN\n",
      "messages\n",
      "VERB\n",
      "tweets\n",
      "NOUN\n",
      "domineering\n",
      "VERB\n",
      "personality\n",
      "NOUN\n",
      "2018\n",
      "NUM\n",
      "FIFA\n",
      "NOUN\n",
      "Cup\n",
      "NOUN\n",
      "21st\n",
      "NUM\n",
      "FIFA\n",
      "NOUN\n",
      "Cup\n",
      "NOUN\n",
      "tournament\n",
      "NOUN\n",
      "contested\n",
      "VERB\n",
      "Cup\n",
      "NOUN\n",
      "trips\n",
      "NOUN\n",
      "arriving\n",
      "VERB\n",
      "NASA\n",
      "NOUN\n",
      "invited\n",
      "VERB\n",
      "ICESAT-2\n",
      "NOUN\n",
      "Satellite\n",
      "NOUN\n",
      "[('Android', 'NOUN'), ('is', 'VERB'), ('a', 'DET'), ('mobile', 'ADJ'), ('operating', 'NOUN'), ('system', 'NOUN'), ('developed', 'VERB'), ('by', 'ADP'), ('Google', 'NOUN'), ('.', '.'), ('Android', 'NOUN'), ('has', 'VERB'), ('been', 'VERB'), ('the', 'DET'), ('best-selling', 'ADJ'), ('OS', 'NOUN'), ('worldwide', 'NOUN'), ('on', 'ADP'), ('smartphones', 'VERB'), ('since', 'ADP'), ('2011', 'NUM'), ('and', 'CONJ'), ('on', 'ADP'), ('tablets', 'NOUN'), ('since', 'ADP'), ('2013', 'NUM'), ('.', '.'), ('Google', 'NOUN'), ('and', 'CONJ'), ('Twitter', 'NOUN'), ('made', 'VERB'), ('a', 'DET'), ('deal', 'NOUN'), ('in', 'ADP'), ('2015', 'NUM'), ('that', 'ADP'), ('gave', 'VERB'), ('Google', 'NOUN'), ('access', 'NOUN'), ('to', 'PRT'), ('Twitter', 'NOUN'), (\"'s\", 'PRT'), ('firehose', 'NOUN'), ('.', '.'), ('Twitter', 'NOUN'), ('is', 'VERB'), ('an', 'DET'), ('online', 'NOUN'), ('news', 'NOUN'), ('and', 'CONJ'), ('social', 'ADJ'), ('networking', 'NOUN'), ('service', 'NOUN'), ('on', 'ADP'), ('which', 'DET'), ('users', 'NOUN'), ('post', 'NOUN'), ('and', 'CONJ'), ('interact', 'NOUN'), ('with', 'ADP'), ('messages', 'VERB'), ('known', 'VERB'), ('as', 'ADP'), ('tweets', 'NOUN'), ('.', '.'), ('Before', 'ADP'), ('entering', 'VERB'), ('politics', 'NOUN'), (',', '.'), ('Donald', 'NOUN'), ('Trump', 'NOUN'), ('was', 'VERB'), ('a', 'DET'), ('domineering', 'VERB'), ('businessman', 'NOUN'), ('and', 'CONJ'), ('a', 'DET'), ('television', 'NOUN'), ('personality', 'NOUN'), ('.', '.'), ('The', 'DET'), ('2018', 'NUM'), ('FIFA', 'NOUN'), ('World', 'NOUN'), ('Cup', 'NOUN'), ('is', 'VERB'), ('the', 'DET'), ('21st', 'NUM'), ('FIFA', 'NOUN'), ('World', 'NOUN'), ('Cup', 'NOUN'), (',', '.'), ('an', 'DET'), ('international', 'ADJ'), ('football', 'NOUN'), ('tournament', 'NOUN'), ('contested', 'VERB'), ('once', 'ADV'), ('every', 'DET'), ('four', 'NUM'), ('years', 'NOUN'), ('.', '.'), ('This', 'DET'), ('is', 'VERB'), ('the', 'DET'), ('first', 'ADJ'), ('World', 'NOUN'), ('Cup', 'NOUN'), ('to', 'PRT'), ('be', 'VERB'), ('held', 'VERB'), ('in', 'ADP'), ('Eastern', 'NOUN'), ('Europe', 'NOUN'), ('and', 'CONJ'), ('the', 'DET'), ('11th', 'ADJ'), ('time', 'NOUN'), ('that', 'ADP'), ('it', 'PRON'), ('has', 'VERB'), ('been', 'VERB'), ('held', 'VERB'), ('in', 'ADP'), ('Europe', 'NOUN'), ('.', '.'), ('Show', 'NOUN'), ('me', 'PRON'), ('the', 'DET'), ('cheapest', 'ADJ'), ('round', 'NOUN'), ('trips', 'NOUN'), ('from', 'ADP'), ('Dallas', 'NOUN'), ('to', 'PRT'), ('Atlanta', 'NOUN'), ('I', 'PRON'), ('would', 'VERB'), ('like', 'ADP'), ('to', 'PRT'), ('see', 'VERB'), ('flights', 'NOUN'), ('from', 'ADP'), ('Denver', 'NOUN'), ('to', 'PRT'), ('Philadelphia', 'NOUN'), ('.', '.'), ('Show', 'NOUN'), ('me', 'PRON'), ('the', 'DET'), ('price', 'NOUN'), ('of', 'ADP'), ('the', 'DET'), ('flights', 'NOUN'), ('leaving', 'VERB'), ('Atlanta', 'NOUN'), ('at', 'ADP'), ('about', 'ADP'), ('3', 'NUM'), ('in', 'ADP'), ('the', 'DET'), ('afternoon', 'NOUN'), ('and', 'CONJ'), ('arriving', 'VERB'), ('in', 'ADP'), ('San', 'NOUN'), ('Francisco', 'NOUN'), ('.', '.'), ('NASA', 'NOUN'), ('invited', 'VERB'), ('social', 'ADJ'), ('media', 'NOUN'), ('users', 'NOUN'), ('to', 'PRT'), ('experience', 'NOUN'), ('the', 'DET'), ('launch', 'NOUN'), ('of', 'ADP'), ('ICESAT-2', 'NOUN'), ('Satellite', 'NOUN'), ('.', '.')]\n",
      "43.87660312652588\n"
     ]
    }
   ],
   "source": [
    "# Test the Algo on given data set\n",
    "sentence_test = open('Test_sentences.txt',mode='r').read()\n",
    "words = word_tokenize(sentence_test)\n",
    "\n",
    "start = time.time()\n",
    "tagged_seq_rule_based_tagger = modified_Viterbi_rule_based(words)\n",
    "end = time.time()\n",
    "difference = end-start\n",
    "\n",
    "print(tagged_seq_rule_based_tagger)\n",
    "print(difference)\n",
    "rulebased_test_tagged_seq = tagged_seq_rule_based_tagger"
   ]
  },
  {
   "cell_type": "markdown",
   "metadata": {},
   "source": [
    "### Approach 2 : lexicon Based Tagging ( Bigram tagger ) with Viterbi"
   ]
  },
  {
   "cell_type": "code",
   "execution_count": 599,
   "metadata": {},
   "outputs": [],
   "source": [
    "# write a new function to define modification\n",
    "\n",
    "def bigram_tagger(wording) :\n",
    "    t0 = nltk.DefaultTagger('NOUN')  # set the default tag as NOUN(most frequently used tag)\n",
    "    t1 = nltk.UnigramTagger(train_set, backoff=t0)  # unigram fallback on default tagger(NOUN)\n",
    "    t2 = nltk.BigramTagger(train_set, backoff=t1)  # bigram fallback on unigram\n",
    "    listvalue=t2.tag(nltk.word_tokenize(wording))\n",
    "    return listvalue[0][1]"
   ]
  },
  {
   "cell_type": "code",
   "execution_count": 600,
   "metadata": {},
   "outputs": [
    {
     "name": "stdout",
     "output_type": "stream",
     "text": [
      "Time taken in seconds:  93.85923528671265\n",
      "[('Mr.', 'NOUN'), ('Coleman', 'NOUN'), ('said', 'VERB'), ('this', 'DET'), ('week', 'NOUN'), ('that', 'ADP'), ('he', 'PRON'), ('would', 'VERB'), ('devote', 'VERB'), ('the', 'DET'), ('remainder', 'NOUN'), ('of', 'ADP'), ('the', 'DET'), ('political', 'ADJ'), ('season', 'NOUN'), ('to', 'PRT'), ('positive', 'ADJ'), ('campaigning', 'NOUN'), (',', '.'), ('but', 'CONJ'), ('the', 'DET'), ('truce', 'NOUN'), ('lasted', 'NOUN'), ('only', 'ADV'), ('hours', 'NOUN'), ('.', '.'), ('Drug', 'NOUN'), ('companies', 'NOUN'), ('in', 'ADP'), ('the', 'DET'), ('key', 'ADJ'), ('index', 'NOUN'), ('also', 'ADV'), ('notched', 'NOUN'), ('gains', 'NOUN'), ('as', 'ADP'), ('market-makers', 'NOUN'), ('searched', 'NOUN'), ('for', 'ADP'), ('stock', 'NOUN'), ('in', 'ADP'), ('anticipation', 'NOUN'), ('of', 'ADP'), ('demand', 'NOUN'), ('due', 'ADJ'), ('to', 'PRT'), ('the', 'DET'), ('sector', 'NOUN'), (\"'s\", 'PRT'), ('defensive', 'ADJ'), ('qualities', 'NOUN'), ('.', '.'), ('Corporations', 'NOUN'), ('and', 'CONJ'), ('museums', 'NOUN'), ('are', 'VERB'), ('among', 'ADP'), ('the', 'DET'), ('serious', 'ADJ'), ('buyers', 'NOUN'), (',', '.'), ('*', 'X'), ('giving', 'VERB'), ('greater', 'ADJ'), ('market', 'NOUN'), ('stability', 'NOUN'), (',', '.'), ('says', 'VERB'), ('0', 'X'), ('*T*-1', 'X'), ('Robert', 'NOUN'), ('Persky', 'NOUN'), ('of', 'ADP'), ('the', 'DET'), ('Photograph', 'NOUN'), ('Collector', 'NOUN'), ('.', '.'), ('In', 'ADP'), ('any', 'DET'), ('case', 'NOUN'), (',', '.'), ('opinion', 'NOUN'), ('*ICH*-2', 'X'), ('is', 'VERB'), ('mixed', 'VERB'), ('on', 'ADP'), ('how', 'ADV'), ('much', 'ADV'), ('of', 'ADP'), ('a', 'DET'), ('boost', 'VERB'), ('the', 'DET'), ('overall', 'ADJ'), ('stock', 'NOUN'), ('market', 'NOUN'), ('would', 'VERB'), ('get', 'VERB'), ('*T*-1', 'X'), ('even', 'ADV'), ('if', 'ADP'), ('dividend', 'NOUN'), ('growth', 'NOUN'), ('continues', 'VERB'), ('at', 'ADP'), ('double-digit', 'ADJ'), ('levels', 'NOUN'), ('.', '.'), ('Mr.', 'NOUN'), ('Martin', 'NOUN'), ('has', 'VERB'), ('increased', 'VERB'), ('prices', 'NOUN'), ('on', 'ADP'), ('some', 'DET'), ('wines', 'NOUN'), ('-LRB-', '.'), ('like', 'ADP'), ('Grgich', 'NOUN'), ('Hills', 'NOUN'), ('Chardonnay', 'NOUN'), (',', '.'), ('now', 'ADV'), ('$', '.'), ('32', 'NUM'), ('*U*', 'X'), ('-RRB-', '.'), ('just', 'ADV'), ('*-1', 'X'), ('to', 'PRT'), ('slow', 'VERB'), ('down', 'ADV'), ('movement', 'NOUN'), (',', '.'), ('but', 'CONJ'), ('he', 'PRON'), ('is', 'VERB'), ('beginning', 'VERB'), ('*-2', 'X'), ('to', 'PRT'), ('see', 'VERB'), ('some', 'DET'), ('resistance', 'NOUN'), ('to', 'PRT'), ('high-priced', 'ADJ'), ('red', 'NOUN'), ('Burgundies', 'NOUN'), ('and', 'CONJ'), ('Cabernets', 'NOUN'), ('and', 'CONJ'), ('Chardonnays', 'NOUN'), ('in', 'ADP'), ('the', 'DET'), ('$', '.'), ('30', 'NUM'), ('to', 'PRT'), ('$', '.'), ('40', 'NUM'), ('*U*', 'X'), ('range', 'VERB'), ('.', '.'), ('GMAC', 'NOUN'), ('screened', 'NOUN'), ('the', 'DET'), ('card-member', 'NOUN'), ('list', 'NOUN'), ('for', 'ADP'), ('holders', 'NOUN'), ('more', 'ADV'), ('than', 'ADP'), ('30', 'NUM'), ('years', 'NOUN'), ('old', 'ADJ'), ('with', 'ADP'), ('household', 'NOUN'), ('incomes', 'NOUN'), ('over', 'ADP'), ('$', '.'), ('45,000', 'NUM'), ('*U*', 'X'), ('who', 'PRON'), ('*T*-54', 'X'), ('had', 'VERB'), (\"n't\", 'ADV'), ('``', '.'), ('missed', 'NOUN'), ('any', 'DET'), ('payments', 'NOUN'), (',', '.'), (\"''\", '.'), ('the', 'DET'), ('Buick', 'NOUN'), ('spokeswoman', 'NOUN'), ('says', 'VERB'), ('0', 'X'), ('*T*-1', 'X'), ('.', '.'), ('Hadson', 'NOUN'), ('Corp.', 'NOUN'), ('said', 'VERB'), ('0', 'X'), ('it', 'PRON'), ('expects', 'VERB'), ('*-1', 'X'), ('to', 'PRT'), ('report', 'NOUN'), ('a', 'DET'), ('third-quarter', 'NOUN'), ('net', 'NOUN'), ('loss', 'NOUN'), ('of', 'ADP'), ('$', '.'), ('17', 'NUM'), ('million', 'NUM'), ('to', 'PRT'), ('$', '.'), ('19', 'NUM'), ('million', 'NUM'), ('*U*', 'X'), ('because', 'ADP'), ('of', 'ADP'), ('special', 'ADJ'), ('reserves', 'NOUN'), ('and', 'CONJ'), ('continued', 'VERB'), ('low', 'ADJ'), ('natural-gas', 'NOUN'), ('prices', 'NOUN'), ('.', '.'), ('A', 'DET'), ('few', 'ADJ'), (',', '.'), ('such', 'ADJ'), ('as', 'ADP'), ('giant', 'ADJ'), ('Merrill', 'NOUN'), ('Lynch', 'NOUN'), ('&', 'CONJ'), ('Co.', 'NOUN'), (',', '.'), ('now', 'ADV'), ('refuse', 'VERB'), ('*-1', 'X'), ('even', 'ADV'), ('to', 'PRT'), ('do', 'VERB'), ('index', 'NOUN'), ('arbitrage', 'NOUN'), ('trades', 'NOUN'), ('for', 'ADP'), ('clients', 'NOUN'), ('.', '.'), ('PaineWebber', 'NOUN'), ('Inc.', 'NOUN'), (',', '.'), ('for', 'ADP'), ('instance', 'NOUN'), (',', '.'), ('is', 'VERB'), ('forecasting', 'NOUN'), ('growth', 'NOUN'), ('in', 'ADP'), ('S&P', 'NOUN'), ('500', 'NUM'), ('dividends', 'NOUN'), ('of', 'ADP'), ('just', 'ADV'), ('under', 'ADP'), ('5', 'NUM'), ('%', 'NOUN'), ('in', 'ADP'), ('1990', 'NUM'), (',', '.'), ('down', 'ADV'), ('from', 'ADP'), ('an', 'DET'), ('estimated', 'VERB'), ('11', 'NUM'), ('%', 'NOUN'), ('this', 'DET'), ('year', 'NOUN'), ('.', '.'), ('``', '.'), ('In', 'ADP'), ('Moscow', 'NOUN'), (',', '.'), ('they', 'PRON'), ('kept', 'VERB'), ('*-5', 'X'), ('asking', 'VERB'), ('us', 'PRON'), ('things', 'NOUN'), ('like', 'ADP'), (',', '.'), ('`', '.'), ('Why', 'ADV'), ('do', 'VERB'), ('you', 'PRON'), ('make', 'VERB'), ('15', 'NUM'), ('different', 'ADJ'), ('corkscrews', 'NOUN'), (',', '.'), ('when', 'ADV'), ('all', 'DET'), ('0', 'X'), ('you', 'PRON'), ('need', 'VERB'), ('*T*-3', 'X'), ('is', 'VERB'), ('one', 'NUM'), ('good', 'ADJ'), ('one', 'NUM'), ('*T*-4', 'X'), ('*T*-2', 'X'), ('?', '.'), (\"'\", '.'), (\"''\", '.'), ('he', 'PRON'), ('says', 'VERB'), ('*T*-1', 'X'), ('.', '.')]\n"
     ]
    }
   ],
   "source": [
    "# Viterbi Heuristic\n",
    "def modified_Viterbi_lexicon_based(words, train_bag = train_tagged_words):\n",
    "    state = []\n",
    "    T = list(set([pair[1] for pair in train_bag]))\n",
    "    \n",
    "    for key, word in enumerate(words):\n",
    "        #initialise list of probability column for a given observation\n",
    "        p = [] \n",
    "        for tag in T:\n",
    "            if key == 0:\n",
    "                transition_p = tags_df.loc['.', tag]\n",
    "            else:\n",
    "                transition_p = tags_df.loc[state[-1], tag]\n",
    "                \n",
    "            # compute emission and state probabilities\n",
    "            emission_p = word_given_tag(words[key], tag)[0]/word_given_tag(words[key], tag)[1]                \n",
    "            state_probability = emission_p * transition_p    \n",
    "            p.append(state_probability)\n",
    "        pmax = max(p)\n",
    "        if pmax == 0.0:       \n",
    "            state_max = bigram_tagger(word)\n",
    "            if state_max is None :\n",
    "                state_max = \".\"\n",
    "        else :\n",
    "            state_max = T[p.index(pmax)] \n",
    "        state.append(state_max)\n",
    "    return list(zip(words, state))\n",
    "\n",
    "random.seed(1234)\n",
    "\n",
    "# Test the modified Algo on random sample test data\n",
    "# choose random 5 sents\n",
    "rndom = [random.randint(1,len(test_set)) for x in range(10)]\n",
    "\n",
    "# list of sents\n",
    "test_run = [test_set[i] for i in rndom]\n",
    "\n",
    "# list of tagged words\n",
    "test_run_base = [tup for sent in test_run for tup in sent]\n",
    "\n",
    "# list of untagged words\n",
    "test_tagged_words = [tup[0] for sent in test_run for tup in sent]\n",
    "test_run\n",
    "\n",
    "# tagging the test sentences\n",
    "#test the few sample sentence from the test set using modified viterbi algorithm\n",
    "start = time.time()\n",
    "tagged_seq_lexicon_tagger = modified_Viterbi_lexicon_based(test_tagged_words)  \n",
    "end = time.time()\n",
    "difference = end-start\n",
    "\n",
    "print(\"Time taken in seconds: \", difference)\n",
    "print(tagged_seq_lexicon_tagger)"
   ]
  },
  {
   "cell_type": "code",
   "execution_count": 601,
   "metadata": {},
   "outputs": [
    {
     "name": "stdout",
     "output_type": "stream",
     "text": [
      "0.9532710280373832\n"
     ]
    },
    {
     "data": {
      "text/plain": [
       "[[('truce', 'NOUN'), (('lasted', 'NOUN'), ('lasted', 'VERB'))],\n",
       " [('also', 'ADV'), (('notched', 'NOUN'), ('notched', 'VERB'))],\n",
       " [('market-makers', 'NOUN'), (('searched', 'NOUN'), ('searched', 'VERB'))],\n",
       " [('how', 'ADV'), (('much', 'ADV'), ('much', 'ADJ'))],\n",
       " [('a', 'DET'), (('boost', 'VERB'), ('boost', 'NOUN'))],\n",
       " [('slow', 'VERB'), (('down', 'ADV'), ('down', 'PRT'))],\n",
       " [('high-priced', 'ADJ'), (('red', 'NOUN'), ('red', 'ADJ'))],\n",
       " [('*U*', 'X'), (('range', 'VERB'), ('range', 'NOUN'))],\n",
       " [('GMAC', 'NOUN'), (('screened', 'NOUN'), ('screened', 'VERB'))],\n",
       " [('holders', 'NOUN'), (('more', 'ADV'), ('more', 'ADJ'))],\n",
       " [('``', '.'), (('missed', 'NOUN'), ('missed', 'VERB'))],\n",
       " [('to', 'PRT'), (('report', 'NOUN'), ('report', 'VERB'))],\n",
       " [('third-quarter', 'NOUN'), (('net', 'NOUN'), ('net', 'ADJ'))],\n",
       " [('is', 'VERB'), (('forecasting', 'NOUN'), ('forecasting', 'VERB'))],\n",
       " [(',', '.'), (('down', 'ADV'), ('down', 'ADP'))]]"
      ]
     },
     "execution_count": 601,
     "metadata": {},
     "output_type": "execute_result"
    }
   ],
   "source": [
    "# accuracy\n",
    "check = [i for i, j in zip(tagged_seq_lexicon_tagger, test_run_base) if i == j] \n",
    "lexicon_viterbi_accuracy = len(check)/len(tagged_seq_lexicon_tagger) \n",
    "print(lexicon_viterbi_accuracy)  # accuracy has increaed\n",
    "\n",
    "# check the words tagged incorrectly\n",
    "incorrect_tagged_cases = [[test_run_base[i-1],j] for i, j in enumerate(zip(tagged_seq_lexicon_tagger, test_run_base)) if j[0]!=j[1]]\n",
    "incorrect_tagged_cases"
   ]
  },
  {
   "cell_type": "markdown",
   "metadata": {},
   "source": [
    "### Observation: lexicon_tagger\n",
    "#### we can see that below words has been correctly tagged after modification.\n",
    "1. choice - NOUN\n",
    "2. discretion -  Noun\n",
    "3. whereas '126.1' this was correctly tagged as NUM by rule based but not correctly tagged by Lexican based"
   ]
  },
  {
   "cell_type": "code",
   "execution_count": 602,
   "metadata": {},
   "outputs": [
    {
     "name": "stdout",
     "output_type": "stream",
     "text": [
      "[('Android', 'NOUN'), ('is', 'VERB'), ('a', 'DET'), ('mobile', 'ADJ'), ('operating', 'NOUN'), ('system', 'NOUN'), ('developed', 'VERB'), ('by', 'ADP'), ('Google', 'NOUN'), ('.', '.'), ('Android', 'NOUN'), ('has', 'VERB'), ('been', 'VERB'), ('the', 'DET'), ('best-selling', 'ADJ'), ('OS', 'NOUN'), ('worldwide', 'NOUN'), ('on', 'ADP'), ('smartphones', 'NOUN'), ('since', 'ADP'), ('2011', 'NOUN'), ('and', 'CONJ'), ('on', 'ADP'), ('tablets', 'NOUN'), ('since', 'ADP'), ('2013', 'NOUN'), ('.', '.'), ('Google', 'NOUN'), ('and', 'CONJ'), ('Twitter', 'NOUN'), ('made', 'VERB'), ('a', 'DET'), ('deal', 'NOUN'), ('in', 'ADP'), ('2015', 'NOUN'), ('that', 'ADP'), ('gave', 'VERB'), ('Google', 'NOUN'), ('access', 'NOUN'), ('to', 'PRT'), ('Twitter', 'NOUN'), (\"'s\", 'PRT'), ('firehose', 'NOUN'), ('.', '.'), ('Twitter', 'NOUN'), ('is', 'VERB'), ('an', 'DET'), ('online', 'NOUN'), ('news', 'NOUN'), ('and', 'CONJ'), ('social', 'ADJ'), ('networking', 'NOUN'), ('service', 'NOUN'), ('on', 'ADP'), ('which', 'DET'), ('users', 'NOUN'), ('post', 'NOUN'), ('and', 'CONJ'), ('interact', 'NOUN'), ('with', 'ADP'), ('messages', 'NOUN'), ('known', 'VERB'), ('as', 'ADP'), ('tweets', 'NOUN'), ('.', '.'), ('Before', 'ADP'), ('entering', 'VERB'), ('politics', 'NOUN'), (',', '.'), ('Donald', 'NOUN'), ('Trump', 'NOUN'), ('was', 'VERB'), ('a', 'DET'), ('domineering', 'NOUN'), ('businessman', 'NOUN'), ('and', 'CONJ'), ('a', 'DET'), ('television', 'NOUN'), ('personality', 'NOUN'), ('.', '.'), ('The', 'DET'), ('2018', 'NOUN'), ('FIFA', 'NOUN'), ('World', 'NOUN'), ('Cup', 'NOUN'), ('is', 'VERB'), ('the', 'DET'), ('21st', 'NOUN'), ('FIFA', 'NOUN'), ('World', 'NOUN'), ('Cup', 'NOUN'), (',', '.'), ('an', 'DET'), ('international', 'ADJ'), ('football', 'NOUN'), ('tournament', 'NOUN'), ('contested', 'NOUN'), ('once', 'ADV'), ('every', 'DET'), ('four', 'NUM'), ('years', 'NOUN'), ('.', '.'), ('This', 'DET'), ('is', 'VERB'), ('the', 'DET'), ('first', 'ADJ'), ('World', 'NOUN'), ('Cup', 'NOUN'), ('to', 'PRT'), ('be', 'VERB'), ('held', 'VERB'), ('in', 'ADP'), ('Eastern', 'NOUN'), ('Europe', 'NOUN'), ('and', 'CONJ'), ('the', 'DET'), ('11th', 'ADJ'), ('time', 'NOUN'), ('that', 'ADP'), ('it', 'PRON'), ('has', 'VERB'), ('been', 'VERB'), ('held', 'VERB'), ('in', 'ADP'), ('Europe', 'NOUN'), ('.', '.'), ('Show', 'NOUN'), ('me', 'PRON'), ('the', 'DET'), ('cheapest', 'ADJ'), ('round', 'NOUN'), ('trips', 'NOUN'), ('from', 'ADP'), ('Dallas', 'NOUN'), ('to', 'PRT'), ('Atlanta', 'NOUN'), ('I', 'PRON'), ('would', 'VERB'), ('like', 'ADP'), ('to', 'PRT'), ('see', 'VERB'), ('flights', 'NOUN'), ('from', 'ADP'), ('Denver', 'NOUN'), ('to', 'PRT'), ('Philadelphia', 'NOUN'), ('.', '.'), ('Show', 'NOUN'), ('me', 'PRON'), ('the', 'DET'), ('price', 'NOUN'), ('of', 'ADP'), ('the', 'DET'), ('flights', 'NOUN'), ('leaving', 'VERB'), ('Atlanta', 'NOUN'), ('at', 'ADP'), ('about', 'ADP'), ('3', 'NUM'), ('in', 'ADP'), ('the', 'DET'), ('afternoon', 'NOUN'), ('and', 'CONJ'), ('arriving', 'NOUN'), ('in', 'ADP'), ('San', 'NOUN'), ('Francisco', 'NOUN'), ('.', '.'), ('NASA', 'NOUN'), ('invited', 'NOUN'), ('social', 'ADJ'), ('media', 'NOUN'), ('users', 'NOUN'), ('to', 'PRT'), ('experience', 'NOUN'), ('the', 'DET'), ('launch', 'NOUN'), ('of', 'ADP'), ('ICESAT-2', 'NOUN'), ('Satellite', 'NOUN'), ('.', '.')]\n",
      "77.05476880073547\n"
     ]
    }
   ],
   "source": [
    "# Test the Algo on given data set\n",
    "sentence_test = open('Test_sentences.txt',mode='r').read()\n",
    "words = word_tokenize(sentence_test)\n",
    "\n",
    "start = time.time()\n",
    "tagged_seq = modified_Viterbi_lexicon_based(words)\n",
    "end = time.time()\n",
    "difference = end-start\n",
    "\n",
    "print(tagged_seq)\n",
    "print(difference)\n",
    "lexicon_test_tagged_seq = tagged_seq"
   ]
  },
  {
   "cell_type": "markdown",
   "metadata": {},
   "source": [
    "### Approach 3 : Combining Taggers with Viterbi"
   ]
  },
  {
   "cell_type": "markdown",
   "metadata": {},
   "source": [
    "Let's now try combining the taggers created above. We saw that the rule-based tagger by itself is quite ineffective since we've only written a handful of rules. However, if we could combine the lexicon and the rule-based tagger, we can potentially create a tagger much better than any of the individual ones.\n",
    "\n",
    "NLTK provides a convenient way to combine taggers using the 'backup' argument. In the following code, we create a regex tagger which is used as a backup tagger to the lexicon tagger, i.e. when the tagger is not able to tag using the lexicon (in case of a new word not in the vocabulary), it uses the rule-based tagger. \n",
    "\n",
    "Also, note that the rule-based tagger itself is backed up by the tag 'NOUN'.\n"
   ]
  },
  {
   "cell_type": "code",
   "execution_count": 603,
   "metadata": {},
   "outputs": [],
   "source": [
    "# write a new function to define modification\n",
    "patterns = [\n",
    "        (r'.*Twitter$', 'NOUN'), # Special words should be tagged as high frequency tag, which is Noun \n",
    "        (r'.*Android$', 'NOUN'),  # Special words should be tagged as high frequency tag, which is Noun\n",
    "        (r'.*Google$', 'NOUN'),   # Special words should be tagged as high frequency tag, which is Noun\n",
    "        (r'[-+]?\\d*\\.\\d+|\\d+', 'NUM'), # Number with floating values\n",
    "        (r'.*ing$', 'VERB'), # gerunds or continuous tense\n",
    "        (r'.*es$', 'VERB'), \n",
    "        (r'.*ed$', 'VERB'),  # past perfect tense\n",
    "        (r'[A-Z ]+', 'NOUN'),  # all caps eg. FIFA, NASA, etc\n",
    "        (r'.*', 'NOUN'), # default value as NOUN\n",
    "]\n",
    "\n",
    "def combined_tagger(wording) :\n",
    "      # set the default tagger as rule_based_tagging\n",
    "    rule_based_tagger = nltk.RegexpTagger(patterns)\n",
    "    t1 = nltk.UnigramTagger(train_set, backoff=rule_based_tagger)\n",
    "    t2 = nltk.BigramTagger(train_set, backoff=t1)\n",
    "    listvalue=t2.tag(nltk.word_tokenize(wording))\n",
    "    return listvalue[0][1]"
   ]
  },
  {
   "cell_type": "code",
   "execution_count": 604,
   "metadata": {},
   "outputs": [
    {
     "name": "stdout",
     "output_type": "stream",
     "text": [
      "Time taken in seconds:  127.35134100914001\n",
      "[('Mr.', 'NOUN'), ('Coleman', 'NOUN'), ('said', 'VERB'), ('this', 'DET'), ('week', 'NOUN'), ('that', 'ADP'), ('he', 'PRON'), ('would', 'VERB'), ('devote', 'VERB'), ('the', 'DET'), ('remainder', 'NOUN'), ('of', 'ADP'), ('the', 'DET'), ('political', 'ADJ'), ('season', 'NOUN'), ('to', 'PRT'), ('positive', 'ADJ'), ('campaigning', 'NOUN'), (',', '.'), ('but', 'CONJ'), ('the', 'DET'), ('truce', 'NOUN'), ('lasted', 'VERB'), ('only', 'ADV'), ('hours', 'NOUN'), ('.', '.'), ('Drug', 'NOUN'), ('companies', 'NOUN'), ('in', 'ADP'), ('the', 'DET'), ('key', 'ADJ'), ('index', 'NOUN'), ('also', 'ADV'), ('notched', 'VERB'), ('gains', 'NOUN'), ('as', 'ADP'), ('market-makers', 'NOUN'), ('searched', 'VERB'), ('for', 'ADP'), ('stock', 'NOUN'), ('in', 'ADP'), ('anticipation', 'NOUN'), ('of', 'ADP'), ('demand', 'NOUN'), ('due', 'ADJ'), ('to', 'PRT'), ('the', 'DET'), ('sector', 'NOUN'), (\"'s\", 'PRT'), ('defensive', 'ADJ'), ('qualities', 'VERB'), ('.', '.'), ('Corporations', 'NOUN'), ('and', 'CONJ'), ('museums', 'NOUN'), ('are', 'VERB'), ('among', 'ADP'), ('the', 'DET'), ('serious', 'ADJ'), ('buyers', 'NOUN'), (',', '.'), ('*', 'X'), ('giving', 'VERB'), ('greater', 'ADJ'), ('market', 'NOUN'), ('stability', 'NOUN'), (',', '.'), ('says', 'VERB'), ('0', 'X'), ('*T*-1', 'X'), ('Robert', 'NOUN'), ('Persky', 'NOUN'), ('of', 'ADP'), ('the', 'DET'), ('Photograph', 'NOUN'), ('Collector', 'NOUN'), ('.', '.'), ('In', 'ADP'), ('any', 'DET'), ('case', 'NOUN'), (',', '.'), ('opinion', 'NOUN'), ('*ICH*-2', 'X'), ('is', 'VERB'), ('mixed', 'VERB'), ('on', 'ADP'), ('how', 'ADV'), ('much', 'ADV'), ('of', 'ADP'), ('a', 'DET'), ('boost', 'VERB'), ('the', 'DET'), ('overall', 'ADJ'), ('stock', 'NOUN'), ('market', 'NOUN'), ('would', 'VERB'), ('get', 'VERB'), ('*T*-1', 'X'), ('even', 'ADV'), ('if', 'ADP'), ('dividend', 'NOUN'), ('growth', 'NOUN'), ('continues', 'VERB'), ('at', 'ADP'), ('double-digit', 'ADJ'), ('levels', 'NOUN'), ('.', '.'), ('Mr.', 'NOUN'), ('Martin', 'NOUN'), ('has', 'VERB'), ('increased', 'VERB'), ('prices', 'NOUN'), ('on', 'ADP'), ('some', 'DET'), ('wines', 'NOUN'), ('-LRB-', '.'), ('like', 'ADP'), ('Grgich', 'NOUN'), ('Hills', 'NOUN'), ('Chardonnay', 'NOUN'), (',', '.'), ('now', 'ADV'), ('$', '.'), ('32', 'NUM'), ('*U*', 'X'), ('-RRB-', '.'), ('just', 'ADV'), ('*-1', 'X'), ('to', 'PRT'), ('slow', 'VERB'), ('down', 'ADV'), ('movement', 'NOUN'), (',', '.'), ('but', 'CONJ'), ('he', 'PRON'), ('is', 'VERB'), ('beginning', 'VERB'), ('*-2', 'X'), ('to', 'PRT'), ('see', 'VERB'), ('some', 'DET'), ('resistance', 'NOUN'), ('to', 'PRT'), ('high-priced', 'ADJ'), ('red', 'NOUN'), ('Burgundies', 'NOUN'), ('and', 'CONJ'), ('Cabernets', 'NOUN'), ('and', 'CONJ'), ('Chardonnays', 'NOUN'), ('in', 'ADP'), ('the', 'DET'), ('$', '.'), ('30', 'NUM'), ('to', 'PRT'), ('$', '.'), ('40', 'NUM'), ('*U*', 'X'), ('range', 'VERB'), ('.', '.'), ('GMAC', 'NOUN'), ('screened', 'VERB'), ('the', 'DET'), ('card-member', 'NOUN'), ('list', 'NOUN'), ('for', 'ADP'), ('holders', 'NOUN'), ('more', 'ADV'), ('than', 'ADP'), ('30', 'NUM'), ('years', 'NOUN'), ('old', 'ADJ'), ('with', 'ADP'), ('household', 'NOUN'), ('incomes', 'VERB'), ('over', 'ADP'), ('$', '.'), ('45,000', 'NUM'), ('*U*', 'X'), ('who', 'PRON'), ('*T*-54', 'X'), ('had', 'VERB'), (\"n't\", 'ADV'), ('``', '.'), ('missed', 'VERB'), ('any', 'DET'), ('payments', 'NOUN'), (',', '.'), (\"''\", '.'), ('the', 'DET'), ('Buick', 'NOUN'), ('spokeswoman', 'NOUN'), ('says', 'VERB'), ('0', 'X'), ('*T*-1', 'X'), ('.', '.'), ('Hadson', 'NOUN'), ('Corp.', 'NOUN'), ('said', 'VERB'), ('0', 'X'), ('it', 'PRON'), ('expects', 'VERB'), ('*-1', 'X'), ('to', 'PRT'), ('report', 'NOUN'), ('a', 'DET'), ('third-quarter', 'NOUN'), ('net', 'NOUN'), ('loss', 'NOUN'), ('of', 'ADP'), ('$', '.'), ('17', 'NUM'), ('million', 'NUM'), ('to', 'PRT'), ('$', '.'), ('19', 'NUM'), ('million', 'NUM'), ('*U*', 'X'), ('because', 'ADP'), ('of', 'ADP'), ('special', 'ADJ'), ('reserves', 'NOUN'), ('and', 'CONJ'), ('continued', 'VERB'), ('low', 'ADJ'), ('natural-gas', 'NOUN'), ('prices', 'NOUN'), ('.', '.'), ('A', 'DET'), ('few', 'ADJ'), (',', '.'), ('such', 'ADJ'), ('as', 'ADP'), ('giant', 'ADJ'), ('Merrill', 'NOUN'), ('Lynch', 'NOUN'), ('&', 'CONJ'), ('Co.', 'NOUN'), (',', '.'), ('now', 'ADV'), ('refuse', 'VERB'), ('*-1', 'X'), ('even', 'ADV'), ('to', 'PRT'), ('do', 'VERB'), ('index', 'NOUN'), ('arbitrage', 'NOUN'), ('trades', 'NOUN'), ('for', 'ADP'), ('clients', 'NOUN'), ('.', '.'), ('PaineWebber', 'NOUN'), ('Inc.', 'NOUN'), (',', '.'), ('for', 'ADP'), ('instance', 'NOUN'), (',', '.'), ('is', 'VERB'), ('forecasting', 'VERB'), ('growth', 'NOUN'), ('in', 'ADP'), ('S&P', 'NOUN'), ('500', 'NUM'), ('dividends', 'NOUN'), ('of', 'ADP'), ('just', 'ADV'), ('under', 'ADP'), ('5', 'NUM'), ('%', 'NOUN'), ('in', 'ADP'), ('1990', 'NUM'), (',', '.'), ('down', 'ADV'), ('from', 'ADP'), ('an', 'DET'), ('estimated', 'VERB'), ('11', 'NUM'), ('%', 'NOUN'), ('this', 'DET'), ('year', 'NOUN'), ('.', '.'), ('``', '.'), ('In', 'ADP'), ('Moscow', 'NOUN'), (',', '.'), ('they', 'PRON'), ('kept', 'VERB'), ('*-5', 'X'), ('asking', 'VERB'), ('us', 'PRON'), ('things', 'NOUN'), ('like', 'ADP'), (',', '.'), ('`', '.'), ('Why', 'ADV'), ('do', 'VERB'), ('you', 'PRON'), ('make', 'VERB'), ('15', 'NUM'), ('different', 'ADJ'), ('corkscrews', 'NOUN'), (',', '.'), ('when', 'ADV'), ('all', 'DET'), ('0', 'X'), ('you', 'PRON'), ('need', 'VERB'), ('*T*-3', 'X'), ('is', 'VERB'), ('one', 'NUM'), ('good', 'ADJ'), ('one', 'NUM'), ('*T*-4', 'X'), ('*T*-2', 'X'), ('?', '.'), (\"'\", '.'), (\"''\", '.'), ('he', 'PRON'), ('says', 'VERB'), ('*T*-1', 'X'), ('.', '.')]\n"
     ]
    }
   ],
   "source": [
    "# Viterbi Heuristic\n",
    "def modified_Viterbi_combined(words, train_bag = train_tagged_words):\n",
    "    state = []\n",
    "    T = list(set([pair[1] for pair in train_bag]))\n",
    "    \n",
    "    for key, word in enumerate(words):\n",
    "        #initialise list of probability column for a given observation\n",
    "        p = [] \n",
    "        for tag in T:\n",
    "            if key == 0:\n",
    "                transition_p = tags_df.loc['.', tag]\n",
    "            else:\n",
    "                transition_p = tags_df.loc[state[-1], tag]\n",
    "                \n",
    "            # compute emission and state probabilities\n",
    "            emission_p = word_given_tag(words[key], tag)[0]/word_given_tag(words[key], tag)[1]                \n",
    "            state_probability = emission_p * transition_p    \n",
    "            p.append(state_probability)\n",
    "        pmax = max(p)\n",
    "        if pmax == 0.0:       \n",
    "            state_max = combined_tagger(word)\n",
    "            if state_max is None :\n",
    "                state_max = \".\"\n",
    "        else :\n",
    "            state_max = T[p.index(pmax)] \n",
    "        state.append(state_max)\n",
    "    return list(zip(words, state))\n",
    "\n",
    "random.seed(1234)\n",
    "\n",
    "# Test the modified Algo on random sample test data\n",
    "# choose random 5 sents\n",
    "rndom = [random.randint(1,len(test_set)) for x in range(10)]\n",
    "\n",
    "# list of sents\n",
    "test_run = [test_set[i] for i in rndom]\n",
    "\n",
    "# list of tagged words\n",
    "test_run_base = [tup for sent in test_run for tup in sent]\n",
    "\n",
    "# list of untagged words\n",
    "test_tagged_words = [tup[0] for sent in test_run for tup in sent]\n",
    "test_run\n",
    "\n",
    "# tagging the test sentences\n",
    "#test the few sample sentence from the test set using modified viterbi algorithm\n",
    "start = time.time()\n",
    "tagged_seq_combined_tagger = modified_Viterbi_combined(test_tagged_words)  \n",
    "end = time.time()\n",
    "difference = end-start\n",
    "\n",
    "print(\"Time taken in seconds: \", difference)\n",
    "print(tagged_seq_combined_tagger)"
   ]
  },
  {
   "cell_type": "code",
   "execution_count": 605,
   "metadata": {},
   "outputs": [
    {
     "name": "stdout",
     "output_type": "stream",
     "text": [
      "0.9657320872274143\n"
     ]
    },
    {
     "data": {
      "text/plain": [
       "[[('defensive', 'ADJ'), (('qualities', 'VERB'), ('qualities', 'NOUN'))],\n",
       " [('how', 'ADV'), (('much', 'ADV'), ('much', 'ADJ'))],\n",
       " [('a', 'DET'), (('boost', 'VERB'), ('boost', 'NOUN'))],\n",
       " [('slow', 'VERB'), (('down', 'ADV'), ('down', 'PRT'))],\n",
       " [('high-priced', 'ADJ'), (('red', 'NOUN'), ('red', 'ADJ'))],\n",
       " [('*U*', 'X'), (('range', 'VERB'), ('range', 'NOUN'))],\n",
       " [('holders', 'NOUN'), (('more', 'ADV'), ('more', 'ADJ'))],\n",
       " [('household', 'NOUN'), (('incomes', 'VERB'), ('incomes', 'NOUN'))],\n",
       " [('to', 'PRT'), (('report', 'NOUN'), ('report', 'VERB'))],\n",
       " [('third-quarter', 'NOUN'), (('net', 'NOUN'), ('net', 'ADJ'))],\n",
       " [(',', '.'), (('down', 'ADV'), ('down', 'ADP'))]]"
      ]
     },
     "execution_count": 605,
     "metadata": {},
     "output_type": "execute_result"
    }
   ],
   "source": [
    "# accuracy\n",
    "check = [i for i, j in zip(tagged_seq_combined_tagger, test_run_base) if i == j] \n",
    "Combined_viterbi_accuracy = len(check)/len(tagged_seq_combined_tagger) \n",
    "print(Combined_viterbi_accuracy)  # accuracy has increaed\n",
    "\n",
    "# check the words tagged incorrectly\n",
    "incorrect_tagged_cases = [[test_run_base[i-1],j] for i, j in enumerate(zip(tagged_seq_combined_tagger, test_run_base)) if j[0]!=j[1]]\n",
    "incorrect_tagged_cases"
   ]
  },
  {
   "cell_type": "markdown",
   "metadata": {},
   "source": [
    "### Observation: Combined tagger\n",
    "- Below words has been tagged correctly as compared to vanila method\n",
    "1. '126.1', 'NUM'\n",
    "2. 'choice', 'NOUN'\n",
    "3. '$', '.'"
   ]
  },
  {
   "cell_type": "code",
   "execution_count": 606,
   "metadata": {},
   "outputs": [
    {
     "name": "stdout",
     "output_type": "stream",
     "text": [
      "[('Android', 'NOUN'), ('is', 'VERB'), ('a', 'DET'), ('mobile', 'ADJ'), ('operating', 'NOUN'), ('system', 'NOUN'), ('developed', 'VERB'), ('by', 'ADP'), ('Google', 'NOUN'), ('.', '.'), ('Android', 'NOUN'), ('has', 'VERB'), ('been', 'VERB'), ('the', 'DET'), ('best-selling', 'ADJ'), ('OS', 'NOUN'), ('worldwide', 'NOUN'), ('on', 'ADP'), ('smartphones', 'VERB'), ('since', 'ADP'), ('2011', 'NUM'), ('and', 'CONJ'), ('on', 'ADP'), ('tablets', 'NOUN'), ('since', 'ADP'), ('2013', 'NUM'), ('.', '.'), ('Google', 'NOUN'), ('and', 'CONJ'), ('Twitter', 'NOUN'), ('made', 'VERB'), ('a', 'DET'), ('deal', 'NOUN'), ('in', 'ADP'), ('2015', 'NUM'), ('that', 'ADP'), ('gave', 'VERB'), ('Google', 'NOUN'), ('access', 'NOUN'), ('to', 'PRT'), ('Twitter', 'NOUN'), (\"'s\", 'PRT'), ('firehose', 'NOUN'), ('.', '.'), ('Twitter', 'NOUN'), ('is', 'VERB'), ('an', 'DET'), ('online', 'NOUN'), ('news', 'NOUN'), ('and', 'CONJ'), ('social', 'ADJ'), ('networking', 'NOUN'), ('service', 'NOUN'), ('on', 'ADP'), ('which', 'DET'), ('users', 'NOUN'), ('post', 'NOUN'), ('and', 'CONJ'), ('interact', 'NOUN'), ('with', 'ADP'), ('messages', 'VERB'), ('known', 'VERB'), ('as', 'ADP'), ('tweets', 'NOUN'), ('.', '.'), ('Before', 'ADP'), ('entering', 'VERB'), ('politics', 'NOUN'), (',', '.'), ('Donald', 'NOUN'), ('Trump', 'NOUN'), ('was', 'VERB'), ('a', 'DET'), ('domineering', 'VERB'), ('businessman', 'NOUN'), ('and', 'CONJ'), ('a', 'DET'), ('television', 'NOUN'), ('personality', 'NOUN'), ('.', '.'), ('The', 'DET'), ('2018', 'NUM'), ('FIFA', 'NOUN'), ('World', 'NOUN'), ('Cup', 'NOUN'), ('is', 'VERB'), ('the', 'DET'), ('21st', 'NUM'), ('FIFA', 'NOUN'), ('World', 'NOUN'), ('Cup', 'NOUN'), (',', '.'), ('an', 'DET'), ('international', 'ADJ'), ('football', 'NOUN'), ('tournament', 'NOUN'), ('contested', 'VERB'), ('once', 'ADV'), ('every', 'DET'), ('four', 'NUM'), ('years', 'NOUN'), ('.', '.'), ('This', 'DET'), ('is', 'VERB'), ('the', 'DET'), ('first', 'ADJ'), ('World', 'NOUN'), ('Cup', 'NOUN'), ('to', 'PRT'), ('be', 'VERB'), ('held', 'VERB'), ('in', 'ADP'), ('Eastern', 'NOUN'), ('Europe', 'NOUN'), ('and', 'CONJ'), ('the', 'DET'), ('11th', 'ADJ'), ('time', 'NOUN'), ('that', 'ADP'), ('it', 'PRON'), ('has', 'VERB'), ('been', 'VERB'), ('held', 'VERB'), ('in', 'ADP'), ('Europe', 'NOUN'), ('.', '.'), ('Show', 'NOUN'), ('me', 'PRON'), ('the', 'DET'), ('cheapest', 'ADJ'), ('round', 'NOUN'), ('trips', 'NOUN'), ('from', 'ADP'), ('Dallas', 'NOUN'), ('to', 'PRT'), ('Atlanta', 'NOUN'), ('I', 'PRON'), ('would', 'VERB'), ('like', 'ADP'), ('to', 'PRT'), ('see', 'VERB'), ('flights', 'NOUN'), ('from', 'ADP'), ('Denver', 'NOUN'), ('to', 'PRT'), ('Philadelphia', 'NOUN'), ('.', '.'), ('Show', 'NOUN'), ('me', 'PRON'), ('the', 'DET'), ('price', 'NOUN'), ('of', 'ADP'), ('the', 'DET'), ('flights', 'NOUN'), ('leaving', 'VERB'), ('Atlanta', 'NOUN'), ('at', 'ADP'), ('about', 'ADP'), ('3', 'NUM'), ('in', 'ADP'), ('the', 'DET'), ('afternoon', 'NOUN'), ('and', 'CONJ'), ('arriving', 'VERB'), ('in', 'ADP'), ('San', 'NOUN'), ('Francisco', 'NOUN'), ('.', '.'), ('NASA', 'NOUN'), ('invited', 'VERB'), ('social', 'ADJ'), ('media', 'NOUN'), ('users', 'NOUN'), ('to', 'PRT'), ('experience', 'NOUN'), ('the', 'DET'), ('launch', 'NOUN'), ('of', 'ADP'), ('ICESAT-2', 'NOUN'), ('Satellite', 'NOUN'), ('.', '.')]\n",
      "143.7431571483612\n"
     ]
    }
   ],
   "source": [
    "# Test the Algo on given data set\n",
    "sentence_test = open('Test_sentences.txt',mode='r').read()\n",
    "words = word_tokenize(sentence_test)\n",
    "\n",
    "start = time.time()\n",
    "tagged_seq = modified_Viterbi_combined(words)\n",
    "end = time.time()\n",
    "difference = end-start\n",
    "\n",
    "print(tagged_seq)\n",
    "print(difference)\n",
    "Combined_test_tagged_seq = tagged_seq"
   ]
  },
  {
   "cell_type": "code",
   "execution_count": null,
   "metadata": {},
   "outputs": [],
   "source": []
  },
  {
   "cell_type": "markdown",
   "metadata": {},
   "source": [
    "## 4. Compare the tagging accuracies of the modifications with the vanilla Viterbi algorithm"
   ]
  },
  {
   "cell_type": "code",
   "execution_count": 607,
   "metadata": {},
   "outputs": [
    {
     "name": "stdout",
     "output_type": "stream",
     "text": [
      "Vannila Viterbi Accuracy: 0.9127725856697819\n",
      "Rule Based Viterbi Accuracy: 0.9657320872274143\n",
      "Lexicon Based Viterbi Accuracy: 0.9532710280373832\n",
      "Combined Viterbi Accuracy: 0.9657320872274143\n"
     ]
    }
   ],
   "source": [
    "print(\"Vannila Viterbi Accuracy: \"+ str(vanila_viterbi_accuracy))\n",
    "print(\"Rule Based Viterbi Accuracy: \"+ str(rulebased_viterbi_accuracy))\n",
    "print(\"Lexicon Based Viterbi Accuracy: \"+ str(lexicon_viterbi_accuracy))\n",
    "print(\"Combined Viterbi Accuracy: \"+ str(Combined_viterbi_accuracy))\n",
    "\n",
    "# From the results we can observe that Accuracy has increased from 91% to 95% AND 96% \n",
    "# by using the modification of rule based and lexical Models."
   ]
  },
  {
   "cell_type": "markdown",
   "metadata": {},
   "source": [
    "## 5. List down cases which were incorrectly tagged by original POS tagger and got corrected by your modifications"
   ]
  },
  {
   "cell_type": "markdown",
   "metadata": {},
   "source": [
    "\n",
    "1.  Words like 'Google','Twitter','Android'  are properly tagged with 'NOUN' in modified Viterbi Algorithm\n",
    "2.  Words like 'NASA', 'FIFA' are correctly tagged as 'NOUN' (a word in all captial letters generally will be an abbrevation and it is a noun). \n",
    "3.  Words ending with '-ing' like 'arriving' and words ending with '-ed' like 'invited' are properly tagged as 'VERB' in Rule Based Tagging\n",
    "4. Words with integers or float are properly tagged as 'NUM' in rule based tagger.\n",
    "5. In Lexicon tagger, words are tagged as 'NOUN' by default in the default tagger if any of the taggers is not able to tag them. And it corrects most of the unknown words like 'Google', 'Android', 'Twitter' etc.\n",
    "6. In the combined tagger, laxican tagger fall back on rule based tagger so as to make a strong tagger."
   ]
  },
  {
   "cell_type": "code",
   "execution_count": null,
   "metadata": {},
   "outputs": [],
   "source": []
  }
 ],
 "metadata": {
  "kernelspec": {
   "display_name": "Python 3",
   "language": "python",
   "name": "python3"
  },
  "language_info": {
   "codemirror_mode": {
    "name": "ipython",
    "version": 3
   },
   "file_extension": ".py",
   "mimetype": "text/x-python",
   "name": "python",
   "nbconvert_exporter": "python",
   "pygments_lexer": "ipython3",
   "version": "3.7.1"
  }
 },
 "nbformat": 4,
 "nbformat_minor": 2
}
